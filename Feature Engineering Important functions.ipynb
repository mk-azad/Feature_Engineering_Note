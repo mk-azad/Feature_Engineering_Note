{
 "cells": [
  {
   "cell_type": "markdown",
   "id": "4c818d37-8e27-49fd-9dd9-edbd840767e8",
   "metadata": {},
   "source": [
    "## Feature Engineering Important functions (186)\n",
    "\n",
    "- Checking Missing Values at first stage to confimr which feature is having missing values:  df.isnull.().sum()\n",
    "- Dropping entire row which has missing values will result in dropping a huge amount of data, which may result in loosing a lot amount of data. We should not go with this method: df.dropna()\n",
    "- Checking the shape of the dataset: df.shape\n",
    "- Column wise deletion will help to delete a column which has a lot of nan values: df.dropna(axis=1, inplace=True)\n",
    "\n",
    "## Imputation Missing Values\n",
    "\n",
    "1- Mean Value Imputation\n",
    "- Mean Imputation Works well when we have normally distributed data. If the feature is somehow a normally distributed and has nan values, the mean value imputation helps the column to make it fully normal distributed feature.\n",
    "- Replacing the null values with the mean value of that particular column. We make a new column to save the new records we created: df['newFeature'] = df['feature'].fillna(df['feature'].mean())\n",
    "Then, we check the new feature values with the previous values: df[['newFeature','age']]\n",
    "\n",
    "2- Median Value Imputation\n",
    "- If we have outliers in the dataset, like, if the dataset or particular feature is left skewed or right skewed, we know that the chances are high that outliers exists. In that case, if nan value exist, we can replace those nan values with Median Value Imputation: df['newFeature'] = df['feature'].fillna(df['feature'].median())\n",
    "Then, we check the new feature values with the previous values: df[['newFeature','age']]\n",
    "\n",
    "3- Mode Imputation Technique-- Works with Categorical Values\n",
    "- If a particular feature values are categorical, in other words, objects and if nan value exists, we use Mode Imputation Technique.\n",
    "- Checking the nan categorical value: df[df['embarked'].isnull()]\n",
    "- Checking to confirm if we are dealing with categorical values: df['feature'].unique()\n",
    "- doing the Mode Imputation and storing it in a new feature: newFeature = df[df['feature'].notna()]['feature'].mode()[0]\n",
    "- Filling the mode value: df['feature_mode'] = df['feature'].fillna(mode_value)\n",
    "- Comparing the previus value with the updated value: df[['feature_mode', 'feature']]\n"
   ]
  },
  {
   "cell_type": "markdown",
   "id": "67ec2bf2-fc59-4311-9132-038e451a28ba",
   "metadata": {},
   "source": [
    "## Feature Engineering (Handling Imbalance Dataset) (187)\n",
    "\n",
    "- For example, working with a dataset solving a classification problem, we know the outputs are in categories. Having two category is known as Binary classification problem. Lets say, we have 1000 of data points. The output feature is a binary classification problem. The outputs are either 'yes' or 'no'. I have 900 yes value and 100 no value. The ratio is 9:1. This is known as an imbalance Dataset.\n",
    "- The problem we will face while predicting in ML is, we will get biased towards the maximum number of the datapoints. We need to fix this issue by balancing the dataset using the below discussed techniques:\n",
    "\n",
    "1. Upsampling: We try to increase the minority number of the data points.\n",
    "- We check the number of value counts of the categorical outfeature by: df['target'].value_count()\n",
    "- Increasing the number of minimum values (which is 100 no): df_minority=df[df['target']==1]\n",
    "df_majority=df[df['target']==0]\n",
    "\n",
    "from sklearn.utils import resample\n",
    "df_minority_upsampled = (df_minority,replace=True, #Sample With replacement\n",
    "         n_samples=len(df_majority),\n",
    "         random_state=42\n",
    "        )\n",
    "\n",
    "- Check the shape to confirm: df_minority_upsampled.shape\n",
    "- Combining the new updated samples with the existing dataset: df_upsampled=pd.concat([df_majority,df_minority_upsampled])\n",
    "\n",
    "2. Downsampling: We try to decrease the majority of the data points. It is not ideal to do as we wil loose alot of data. The steps are same as minority upsampled. We just rename the name:\n",
    "\n",
    "df_minority=df[df['target']==1]\n",
    "df_majority=df[df['target']==0]\n",
    "\n",
    "from sklearn.utils import resample\n",
    "df_majority_downsampled=resample(df_majority,replace=False, #Sample With replacement\n",
    "         n_samples=len(df_minority),\n",
    "         random_state=42\n",
    "        )\n",
    "        \n",
    "df_majority_downsampled.shape\n",
    "\n",
    "df_downsampled=pd.concat([df_minority,df_majority_downsampled])\n",
    "\n",
    "df_downsampled['target'].value_counts()"
   ]
  },
  {
   "cell_type": "markdown",
   "id": "3f1eb4c1-ec26-4e84-bd93-364686876f79",
   "metadata": {},
   "source": [
    "## Feature Engineering (SMOTE) (188)\n",
    "\n",
    "# SMOTE(Synthetic Minority Oversampling Technique)\n",
    "\n",
    "SMOTE (Synthetic Minority Over-sampling Technique) is a technique used in machine learning to address imbalanced datasets where the minority class has significantly fewer instances than the majority class. SMOTE involves generating synthetic instances of the minority class by interpolating between existing instances.\n",
    "\n",
    "For example, lets say we have 900 output of a category as majority instances and 100 output of another category as minority instances. In the upsampling technique, we increase the minority datapoints to make it equal to the majority dataset. What happens is, the points get increased in the same position again and again. By this, the variance of the datapoints of minority instances are not happening.\n",
    "\n",
    "To avoid this problem, we use the interpolating technique, where, it draws a line between two closed minor data points and creates the new instances between that line. By this, the spread of the datapoints gets equality. "
   ]
  },
  {
   "cell_type": "code",
   "execution_count": 1,
   "id": "e7bba6e0-6e92-4712-9ccb-63c960bb2a19",
   "metadata": {},
   "outputs": [
    {
     "data": {
      "text/plain": [
       "(1000, 2)"
      ]
     },
     "execution_count": 1,
     "metadata": {},
     "output_type": "execute_result"
    }
   ],
   "source": [
    "from sklearn.datasets import make_classification\n",
    "\n",
    "X,y=make_classification(n_samples=1000,n_redundant=0,n_features=2,n_clusters_per_class=1,\n",
    "                   weights=[0.90],random_state=12)\n",
    "\n",
    "X.shape"
   ]
  },
  {
   "cell_type": "code",
   "execution_count": 2,
   "id": "d4f80f4d-feec-4ebd-ad35-d70f298397b3",
   "metadata": {},
   "outputs": [
    {
     "data": {
      "text/plain": [
       "100"
      ]
     },
     "execution_count": 2,
     "metadata": {},
     "output_type": "execute_result"
    }
   ],
   "source": [
    "len(y[y==1])"
   ]
  },
  {
   "cell_type": "code",
   "execution_count": 3,
   "id": "110464b1-599f-4589-a69e-49d8455b24f3",
   "metadata": {},
   "outputs": [
    {
     "data": {
      "text/html": [
       "<div>\n",
       "<style scoped>\n",
       "    .dataframe tbody tr th:only-of-type {\n",
       "        vertical-align: middle;\n",
       "    }\n",
       "\n",
       "    .dataframe tbody tr th {\n",
       "        vertical-align: top;\n",
       "    }\n",
       "\n",
       "    .dataframe thead th {\n",
       "        text-align: right;\n",
       "    }\n",
       "</style>\n",
       "<table border=\"1\" class=\"dataframe\">\n",
       "  <thead>\n",
       "    <tr style=\"text-align: right;\">\n",
       "      <th></th>\n",
       "      <th>f1</th>\n",
       "      <th>f2</th>\n",
       "      <th>target</th>\n",
       "    </tr>\n",
       "  </thead>\n",
       "  <tbody>\n",
       "    <tr>\n",
       "      <th>0</th>\n",
       "      <td>-0.762898</td>\n",
       "      <td>-0.706808</td>\n",
       "      <td>0</td>\n",
       "    </tr>\n",
       "    <tr>\n",
       "      <th>1</th>\n",
       "      <td>-1.075436</td>\n",
       "      <td>-1.051162</td>\n",
       "      <td>0</td>\n",
       "    </tr>\n",
       "    <tr>\n",
       "      <th>2</th>\n",
       "      <td>-0.610115</td>\n",
       "      <td>-0.909802</td>\n",
       "      <td>0</td>\n",
       "    </tr>\n",
       "    <tr>\n",
       "      <th>3</th>\n",
       "      <td>-2.023284</td>\n",
       "      <td>-0.428945</td>\n",
       "      <td>1</td>\n",
       "    </tr>\n",
       "    <tr>\n",
       "      <th>4</th>\n",
       "      <td>-0.812921</td>\n",
       "      <td>-1.316206</td>\n",
       "      <td>0</td>\n",
       "    </tr>\n",
       "  </tbody>\n",
       "</table>\n",
       "</div>"
      ],
      "text/plain": [
       "         f1        f2  target\n",
       "0 -0.762898 -0.706808       0\n",
       "1 -1.075436 -1.051162       0\n",
       "2 -0.610115 -0.909802       0\n",
       "3 -2.023284 -0.428945       1\n",
       "4 -0.812921 -1.316206       0"
      ]
     },
     "execution_count": 3,
     "metadata": {},
     "output_type": "execute_result"
    }
   ],
   "source": [
    "import pandas as pd\n",
    "df1=pd.DataFrame(X,columns=['f1','f2'])\n",
    "df2=pd.DataFrame(y,columns=['target'])\n",
    "final_df=pd.concat([df1,df2],axis=1)\n",
    "final_df.head()"
   ]
  },
  {
   "cell_type": "code",
   "execution_count": 4,
   "id": "97b9ec73-6898-41b8-8d4d-c6a71063e15f",
   "metadata": {},
   "outputs": [
    {
     "data": {
      "text/plain": [
       "0    900\n",
       "1    100\n",
       "Name: target, dtype: int64"
      ]
     },
     "execution_count": 4,
     "metadata": {},
     "output_type": "execute_result"
    }
   ],
   "source": [
    "final_df['target'].value_counts()"
   ]
  },
  {
   "cell_type": "code",
   "execution_count": 5,
   "id": "e6e50ee7-6571-4a1c-ae37-2cf1c30e8e8a",
   "metadata": {},
   "outputs": [
    {
     "data": {
      "text/plain": [
       "<matplotlib.collections.PathCollection at 0x7fc39734ba00>"
      ]
     },
     "execution_count": 5,
     "metadata": {},
     "output_type": "execute_result"
    },
    {
     "data": {
      "image/png": "[encoded data removed]",
      "text/plain": [
       "<Figure size 640x480 with 1 Axes>"
      ]
     },
     "metadata": {},
     "output_type": "display_data"
    }
   ],
   "source": [
    "import matplotlib.pyplot as plt\n",
    "plt.scatter(final_df['f1'],final_df['f2'],c=final_df['target'])"
   ]
  },
  {
   "cell_type": "code",
   "execution_count": 6,
   "id": "9ecbbe33-2802-4a55-aec7-ad86b6696ef1",
   "metadata": {},
   "outputs": [],
   "source": [
    "## Applying SMOTE"
   ]
  },
  {
   "cell_type": "code",
   "execution_count": 7,
   "id": "d04ab12b-7de8-4bce-bb85-4e75b20e8a6a",
   "metadata": {},
   "outputs": [
    {
     "name": "stdout",
     "output_type": "stream",
     "text": [
      "Collecting imblearn\n",
      "  Downloading imblearn-0.0-py2.py3-none-any.whl (1.9 kB)\n",
      "Collecting imbalanced-learn\n",
      "  Downloading imbalanced_learn-0.11.0-py3-none-any.whl (235 kB)\n",
      "\u001b[2K     \u001b[90m━━━━━━━━━━━━━━━━━━━━━━━━━━━━━━━━━━━━━━━\u001b[0m \u001b[32m235.6/235.6 kB\u001b[0m \u001b[31m7.6 MB/s\u001b[0m eta \u001b[36m0:00:00\u001b[0m\n",
      "\u001b[?25hRequirement already satisfied: joblib>=1.1.1 in /opt/conda/lib/python3.10/site-packages (from imbalanced-learn->imblearn) (1.2.0)\n",
      "Requirement already satisfied: numpy>=1.17.3 in /opt/conda/lib/python3.10/site-packages (from imbalanced-learn->imblearn) (1.23.5)\n",
      "Requirement already satisfied: scikit-learn>=1.0.2 in /opt/conda/lib/python3.10/site-packages (from imbalanced-learn->imblearn) (1.2.0)\n",
      "Requirement already satisfied: threadpoolctl>=2.0.0 in /opt/conda/lib/python3.10/site-packages (from imbalanced-learn->imblearn) (3.1.0)\n",
      "Requirement already satisfied: scipy>=1.5.0 in /opt/conda/lib/python3.10/site-packages (from imbalanced-learn->imblearn) (1.9.3)\n",
      "Installing collected packages: imbalanced-learn, imblearn\n",
      "Successfully installed imbalanced-learn-0.11.0 imblearn-0.0\n"
     ]
    }
   ],
   "source": [
    "!pip install imblearn"
   ]
  },
  {
   "cell_type": "code",
   "execution_count": 8,
   "id": "2c5117b8-b433-40cf-b0d0-49aee21f3da8",
   "metadata": {},
   "outputs": [],
   "source": [
    "from imblearn.over_sampling import SMOTE\n",
    "## transform the dataset\n",
    "oversample=SMOTE()\n",
    "X,y=oversample.fit_resample(final_df[['f1','f2']],final_df['target'])"
   ]
  },
  {
   "cell_type": "code",
   "execution_count": 9,
   "id": "025ceaf4-db9d-4ee1-a687-dbdbd1a496c9",
   "metadata": {},
   "outputs": [
    {
     "data": {
      "text/plain": [
       "(1800, 2)"
      ]
     },
     "execution_count": 9,
     "metadata": {},
     "output_type": "execute_result"
    }
   ],
   "source": [
    "X.shape"
   ]
  },
  {
   "cell_type": "code",
   "execution_count": 10,
   "id": "e03a1eab-8346-45c0-8c35-0e8c63d8bb81",
   "metadata": {},
   "outputs": [
    {
     "data": {
      "text/plain": [
       "(1800,)"
      ]
     },
     "execution_count": 10,
     "metadata": {},
     "output_type": "execute_result"
    }
   ],
   "source": [
    "y.shape"
   ]
  },
  {
   "cell_type": "code",
   "execution_count": 11,
   "id": "d373b5cc-2e64-4e89-9525-dead95545a2a",
   "metadata": {},
   "outputs": [
    {
     "data": {
      "text/plain": [
       "900"
      ]
     },
     "execution_count": 11,
     "metadata": {},
     "output_type": "execute_result"
    }
   ],
   "source": [
    "len(y[y==0])"
   ]
  },
  {
   "cell_type": "code",
   "execution_count": 12,
   "id": "716e0845-6f89-49e6-b5ac-56d8f8361857",
   "metadata": {},
   "outputs": [
    {
     "data": {
      "text/plain": [
       "900"
      ]
     },
     "execution_count": 12,
     "metadata": {},
     "output_type": "execute_result"
    }
   ],
   "source": [
    "len(y[y==1])"
   ]
  },
  {
   "cell_type": "code",
   "execution_count": 13,
   "id": "6620dce5-e453-4d16-bbda-a528dcfc109b",
   "metadata": {},
   "outputs": [],
   "source": [
    "df1=pd.DataFrame(X,columns=['f1','f2'])\n",
    "df2=pd.DataFrame(y,columns=['target'])\n",
    "oversample_df=pd.concat([df1,df2],axis=1)"
   ]
  },
  {
   "cell_type": "code",
   "execution_count": 14,
   "id": "08c9580c-08d3-4919-918a-30a5bc3f9e65",
   "metadata": {},
   "outputs": [
    {
     "data": {
      "text/plain": [
       "<matplotlib.collections.PathCollection at 0x7fc5bff94c10>"
      ]
     },
     "execution_count": 14,
     "metadata": {},
     "output_type": "execute_result"
    },
    {
     "data": {
      "image/png": "[encoded data removed]",
      "text/plain": [
       "<Figure size 640x480 with 1 Axes>"
      ]
     },
     "metadata": {},
     "output_type": "display_data"
    }
   ],
   "source": [
    "plt.scatter(oversample_df['f1'],oversample_df['f2'],c=oversample_df['target'])"
   ]
  },
  {
   "cell_type": "markdown",
   "id": "5be514b6-88e0-40ed-884e-920ff851779b",
   "metadata": {},
   "source": [
    "## Feature Engineering (Data Interpolation) (189)\n",
    "\n",
    "Data interpolation is the process of estimating unknown values within a dataset based on the known values. In Python, there are various libraries available that can be used for data interpolation, such as NumPy, SciPy, and Pandas.\n",
    "\n",
    "Lets say I have a dataset with some known values (10 data points lets assume) and I want to increase it to 100 within that specific dataset, then we have to interpolate those data points, create synthetic data points.\n",
    "\n",
    "Here is an example of how to perform data interpolation using the NumPy library:\n",
    "\n",
    "1. Linear Interpolation\n",
    "2. Cubic Interpolation With Scipy\n",
    "3. Polynomial Interpolation"
   ]
  },
  {
   "cell_type": "markdown",
   "id": "30f8174b-2a3c-4cef-8538-530f53ff40e5",
   "metadata": {},
   "source": [
    "## 1. Linear Interpolation\n",
    "\n",
    "This works with respect to linear data"
   ]
  },
  {
   "cell_type": "code",
   "execution_count": 15,
   "id": "7eed33d2-91f2-429a-b975-b9cb4b018d67",
   "metadata": {},
   "outputs": [],
   "source": [
    "import numpy as np\n",
    "x=np.array([1,2,3,4,5])\n",
    "y=np.array([2,4,6,8,10])"
   ]
  },
  {
   "cell_type": "code",
   "execution_count": 16,
   "id": "a7e219f2-1fe0-4588-a0a4-c3f431dec160",
   "metadata": {},
   "outputs": [
    {
     "data": {
      "text/plain": [
       "<matplotlib.collections.PathCollection at 0x7fc5bf84ef50>"
      ]
     },
     "execution_count": 16,
     "metadata": {},
     "output_type": "execute_result"
    },
    {
     "data": {
      "image/png": "[encoded data removed]",
      "text/plain": [
       "<Figure size 640x480 with 1 Axes>"
      ]
     },
     "metadata": {},
     "output_type": "display_data"
    }
   ],
   "source": [
    "import matplotlib.pyplot as plt\n",
    "plt.scatter(x,y)"
   ]
  },
  {
   "cell_type": "code",
   "execution_count": 18,
   "id": "069dcfff-cc5a-45e0-ac1c-e58dbf427db6",
   "metadata": {},
   "outputs": [],
   "source": [
    "## interpolate the data using linear interpolation\n",
    "x_new = np.linspace(1,5,10) ## create new x values\n",
    "y_interp = np.interp(x_new,x,y)\n"
   ]
  },
  {
   "cell_type": "code",
   "execution_count": 19,
   "id": "2ab5f511-3665-4202-9202-71a38ec7e1e4",
   "metadata": {},
   "outputs": [
    {
     "data": {
      "text/plain": [
       "array([ 2.        ,  2.88888889,  3.77777778,  4.66666667,  5.55555556,\n",
       "        6.44444444,  7.33333333,  8.22222222,  9.11111111, 10.        ])"
      ]
     },
     "execution_count": 19,
     "metadata": {},
     "output_type": "execute_result"
    }
   ],
   "source": [
    "y_interp"
   ]
  },
  {
   "cell_type": "code",
   "execution_count": 20,
   "id": "f682b92e-4c34-4e50-a24e-fe331623bccc",
   "metadata": {},
   "outputs": [
    {
     "data": {
      "text/plain": [
       "<matplotlib.collections.PathCollection at 0x7fc5bf908d30>"
      ]
     },
     "execution_count": 20,
     "metadata": {},
     "output_type": "execute_result"
    },
    {
     "data": {
      "image/png": "[encoded data removed]",
      "text/plain": [
       "<Figure size 640x480 with 1 Axes>"
      ]
     },
     "metadata": {},
     "output_type": "display_data"
    }
   ],
   "source": [
    "plt.scatter(x_new,y_interp)"
   ]
  },
  {
   "cell_type": "markdown",
   "id": "77c6d2e3-debe-40e3-b43d-556dbc251df9",
   "metadata": {},
   "source": [
    "# 2. Cubic Interpolation With Scipy\n",
    "\n",
    "The dataset will be in some kind of curve shape"
   ]
  },
  {
   "cell_type": "code",
   "execution_count": 24,
   "id": "52f64626-7b0d-4ede-aa4f-4012ea264b1a",
   "metadata": {},
   "outputs": [],
   "source": [
    "import numpy as np\n",
    "x=np.array([1,2,3,4,5])\n",
    "y=np.array([1,8,27,64,125])  ## The relation between x and y is in a cubic manner"
   ]
  },
  {
   "cell_type": "code",
   "execution_count": 25,
   "id": "e5444e13-d4fc-4469-b5e0-99d8bfe6155b",
   "metadata": {},
   "outputs": [],
   "source": [
    "from scipy.interpolate import interp1d"
   ]
  },
  {
   "cell_type": "code",
   "execution_count": 26,
   "id": "e3f0fc59-1909-4ca2-8594-e3a8af784289",
   "metadata": {},
   "outputs": [],
   "source": [
    "##create a cubic interpolation function\n",
    "f=interp1d(x,y,kind='cubic')"
   ]
  },
  {
   "cell_type": "code",
   "execution_count": 28,
   "id": "ce901c8f-265a-439d-8fbb-0534cbd43543",
   "metadata": {},
   "outputs": [],
   "source": [
    "# interpolate the data\n",
    "x_new = np.linspace(1, 5, 10)\n",
    "y_interp=f(x_new)"
   ]
  },
  {
   "cell_type": "code",
   "execution_count": 29,
   "id": "2927218d-c929-4d84-859f-b829fcddf713",
   "metadata": {},
   "outputs": [
    {
     "data": {
      "text/plain": [
       "array([  1.        ,   3.01371742,   6.739369  ,  12.7037037 ,\n",
       "        21.43347051,  33.45541838,  49.2962963 ,  69.48285322,\n",
       "        94.54183813, 125.        ])"
      ]
     },
     "execution_count": 29,
     "metadata": {},
     "output_type": "execute_result"
    }
   ],
   "source": [
    "y_interp"
   ]
  },
  {
   "cell_type": "code",
   "execution_count": 30,
   "id": "92002f59-e147-4c1b-a75f-749a9b835626",
   "metadata": {},
   "outputs": [
    {
     "data": {
      "text/plain": [
       "<matplotlib.collections.PathCollection at 0x7fc3a9731630>"
      ]
     },
     "execution_count": 30,
     "metadata": {},
     "output_type": "execute_result"
    },
    {
     "data": {
      "image/png": "[encoded data removed]",
      "text/plain": [
       "<Figure size 640x480 with 1 Axes>"
      ]
     },
     "metadata": {},
     "output_type": "display_data"
    }
   ],
   "source": [
    "plt.scatter(x,y)"
   ]
  },
  {
   "cell_type": "code",
   "execution_count": 31,
   "id": "18c25fa2-690e-4817-a4d2-c28e7379e397",
   "metadata": {},
   "outputs": [
    {
     "data": {
      "text/plain": [
       "<matplotlib.collections.PathCollection at 0x7fc3a95c55a0>"
      ]
     },
     "execution_count": 31,
     "metadata": {},
     "output_type": "execute_result"
    },
    {
     "data": {
      "image/png": "[encoded data removed]",
      "text/plain": [
       "<Figure size 640x480 with 1 Axes>"
      ]
     },
     "metadata": {},
     "output_type": "display_data"
    }
   ],
   "source": [
    "plt.scatter(x_new,y_interp)"
   ]
  },
  {
   "cell_type": "markdown",
   "id": "33163a9b-85b7-4e01-a004-a7246bc3133e",
   "metadata": {},
   "source": [
    "# 3. Polynomial Interpolation\n",
    "\n",
    "This is also used in a curve manner. We set a degree of polynominal (1,2,3, etc) to decide the curve to make. If it is 1, it becomes a linear line, if it is 2, it is an exponential line (curve) and so on."
   ]
  },
  {
   "cell_type": "code",
   "execution_count": 32,
   "id": "17b9f5c7-0f85-4c98-9e2e-8c2d5e8506a9",
   "metadata": {},
   "outputs": [],
   "source": [
    "import numpy as np\n",
    "\n",
    "# create some sample data\n",
    "x = np.array([1, 2, 3, 4, 5])\n",
    "y = np.array([1, 4, 9, 16, 25])"
   ]
  },
  {
   "cell_type": "code",
   "execution_count": 33,
   "id": "e6e24be1-9615-44c5-86dc-d123ff4ca72e",
   "metadata": {},
   "outputs": [],
   "source": [
    "# interpolate the data using polynomial interpolation\n",
    "p=np.polyfit(x,y,2)"
   ]
  },
  {
   "cell_type": "code",
   "execution_count": 34,
   "id": "a2275f1c-50c9-4c68-b7dd-588f5ca5f838",
   "metadata": {},
   "outputs": [],
   "source": [
    "x_new = np.linspace(1, 5, 10) # create new x values\n",
    "y_interp = np.polyval(p, x_new) # interpolate y values"
   ]
  },
  {
   "cell_type": "code",
   "execution_count": 35,
   "id": "e506ab68-d36c-47cf-98de-427f40244bb3",
   "metadata": {},
   "outputs": [
    {
     "data": {
      "text/plain": [
       "<matplotlib.collections.PathCollection at 0x7fc3a9658a60>"
      ]
     },
     "execution_count": 35,
     "metadata": {},
     "output_type": "execute_result"
    },
    {
     "data": {
      "image/png": "[encoded data removed]",
      "text/plain": [
       "<Figure size 640x480 with 1 Axes>"
      ]
     },
     "metadata": {},
     "output_type": "display_data"
    }
   ],
   "source": [
    "plt.scatter(x,y)"
   ]
  },
  {
   "cell_type": "code",
   "execution_count": 36,
   "id": "a52b2b61-2d29-4781-a547-36485af21494",
   "metadata": {},
   "outputs": [
    {
     "data": {
      "text/plain": [
       "<matplotlib.collections.PathCollection at 0x7fc3a96bbee0>"
      ]
     },
     "execution_count": 36,
     "metadata": {},
     "output_type": "execute_result"
    },
    {
     "data": {
      "image/png": "[encoded data removed]",
      "text/plain": [
       "<Figure size 640x480 with 1 Axes>"
      ]
     },
     "metadata": {},
     "output_type": "display_data"
    }
   ],
   "source": [
    "plt.scatter(x_new,y_interp)"
   ]
  },
  {
   "cell_type": "markdown",
   "id": "8ae4f03e-2efd-4e7e-8061-17eb1bd355f8",
   "metadata": {},
   "source": [
    "## Feature Engineering (Percentiles & Quartiles) (190)\n",
    "\n",
    "# Percentiles\n",
    "\n",
    "* Definition: A percentile is a value below which a certain percentage of observations or data points lie. \n",
    "\n",
    "Example: Lets say I have number like X = {2,3,3,4,6,6,7,8,8,9,9,10,11,12}\n",
    "\n",
    "I am asked what is 75% value in X. Lets assume 9 is the 75% value of X. It means that Below X=9, there are 75% of this entire distribution falling below 9. 75% of the entire distribution fall below the 75 percentile value. \n",
    "\n",
    "If we are asked, what is the percentile rank of 10: number of values below 10 * 100/ total size(n) = 80%\n",
    "It says, 80% if entire distribution falls below the value 10.\n",
    "\n",
    "If we are asked, what value exists at percentile 25?\n",
    "value= percentile * (total value counts+1)/100 = index value of X\n",
    "\n",
    "The index count starts from 1st index. There is no 0 index count.\n",
    "\n",
    "* Quartiles:\n",
    "Q1 - 25 percentile\n",
    "Q2 - Median\n",
    "Q3 - 75 percentile\n",
    "\n",
    "\n",
    "\n",
    "\n"
   ]
  },
  {
   "cell_type": "markdown",
   "id": "f7e03fbf-01c5-40ec-bb8a-d9da98751a10",
   "metadata": {},
   "source": [
    "## Feature Engineering (5 number Summery and Boxplot) (191)\n",
    "\n",
    "This is super important to find outliers in a specific dataset. \n",
    "\n",
    "Discussion are below regarding 5 number summary:\n",
    "1. Minimum\n",
    "2. First Quartile (25 percentile Q1)\n",
    "3. Median\n",
    "4. Thrid Quartile (75 percentile Q3)\n",
    "5. Maximum\n",
    "\n",
    "* Removing the Outliers:\n",
    "\n",
    "X = { 1,2,2,2,3,3,4,5,5,5,6,6,6,6,7,8,8,9,29 }\n",
    "\n",
    "[Lower Fence <--------------> Higher Fence]\n",
    "\n",
    "IQR = Q3 - Q1\n",
    "\n",
    "Q1 = 25 percentile = 25 * (19 + 1) / 100    (n=19)\n",
    "                   = 5th value = 3\n",
    "                   \n",
    "Q3 = 75 percentile = 75 * (19+1) / 100\n",
    "                   15 the value = 7\n",
    "            \n",
    "IQR = Q3 - Q1 = 7 - 3 = 4    (IQR: Inter Quartile Range)\n",
    "\n",
    "Lower Fence = Q1 - 1.5(IQR) = 3 - 1.5*4 = -3\n",
    "Higher Fence = Q3 + 1.5(IQR) = 7 + 1.5*4 = 13\n",
    "\n",
    "My lower fence and higher fence is between -3 to 13.\n",
    "\n",
    "Anything below -3 and above 13 will be considered as outliers. So in X, the outlier is 29."
   ]
  },
  {
   "cell_type": "markdown",
   "id": "3f3aec26-5b3c-44de-a82e-2d6f92b02f7b",
   "metadata": {},
   "source": [
    "## Feature Engineering (Handling Outliers) (192)"
   ]
  },
  {
   "cell_type": "code",
   "execution_count": 1,
   "id": "9662518f-1486-46e1-8899-e6ceeb70edff",
   "metadata": {},
   "outputs": [],
   "source": [
    "## Minimum,MAximum,Median,Q1,Q3,IQR"
   ]
  },
  {
   "cell_type": "code",
   "execution_count": 2,
   "id": "fe3cbdc2-200d-4d3f-b994-1017ffb19ac6",
   "metadata": {},
   "outputs": [],
   "source": [
    "import numpy as np"
   ]
  },
  {
   "cell_type": "code",
   "execution_count": 3,
   "id": "404d8881-9965-4da4-89c5-19d31e898fd8",
   "metadata": {},
   "outputs": [],
   "source": [
    "lst_marks=[45,32,56,75,89,54,32,89,90,87,67,54,45,98,99,67,74]\n",
    "minimum,Q1,median,Q3,maximum=np.quantile(lst_marks,[0,0.25,0.50,0.75,1.0])"
   ]
  },
  {
   "cell_type": "code",
   "execution_count": 4,
   "id": "9085563f-cb04-4e3b-abe7-e718bc4ac9ea",
   "metadata": {},
   "outputs": [
    {
     "data": {
      "text/plain": [
       "(32.0, 54.0, 67.0, 89.0, 99.0)"
      ]
     },
     "execution_count": 4,
     "metadata": {},
     "output_type": "execute_result"
    }
   ],
   "source": [
    "minimum,Q1,median,Q3,maximum"
   ]
  },
  {
   "cell_type": "code",
   "execution_count": 5,
   "id": "250ccef6-255a-442c-ba16-7b96eeb85796",
   "metadata": {},
   "outputs": [
    {
     "name": "stdout",
     "output_type": "stream",
     "text": [
      "35.0\n"
     ]
    }
   ],
   "source": [
    "IQR=Q3-Q1\n",
    "print(IQR)"
   ]
  },
  {
   "cell_type": "code",
   "execution_count": 6,
   "id": "f400aa4e-d4ce-4a82-bece-6589fb92976a",
   "metadata": {},
   "outputs": [],
   "source": [
    "lower_fence=Q1-1.5*(IQR)\n",
    "higher_fence=Q3+1.5*(IQR)"
   ]
  },
  {
   "cell_type": "code",
   "execution_count": 7,
   "id": "00a991c0-d57a-4ce1-b931-741f7ac9e2b9",
   "metadata": {},
   "outputs": [
    {
     "data": {
      "text/plain": [
       "1.5"
      ]
     },
     "execution_count": 7,
     "metadata": {},
     "output_type": "execute_result"
    }
   ],
   "source": [
    "lower_fence"
   ]
  },
  {
   "cell_type": "code",
   "execution_count": 8,
   "id": "bb0dee6c-d06b-4a3d-bff7-0d9f688a195d",
   "metadata": {},
   "outputs": [
    {
     "data": {
      "text/plain": [
       "141.5"
      ]
     },
     "execution_count": 8,
     "metadata": {},
     "output_type": "execute_result"
    }
   ],
   "source": [
    "higher_fence"
   ]
  },
  {
   "cell_type": "code",
   "execution_count": 9,
   "id": "4580074e-3750-40c7-8934-315831ce052a",
   "metadata": {},
   "outputs": [],
   "source": [
    "lst_marks=[45,32,56,75,89,54,32,89,90,87,67,54,45,98,99,67,74]"
   ]
  },
  {
   "cell_type": "code",
   "execution_count": 11,
   "id": "2bbf110e-0a2d-4aa3-be66-305cf30367a4",
   "metadata": {},
   "outputs": [],
   "source": [
    "import seaborn as sns"
   ]
  },
  {
   "cell_type": "code",
   "execution_count": 12,
   "id": "4bf142a1-b319-467d-a453-4d0938efdfef",
   "metadata": {},
   "outputs": [
    {
     "data": {
      "text/plain": [
       "<AxesSubplot: >"
      ]
     },
     "execution_count": 12,
     "metadata": {},
     "output_type": "execute_result"
    },
    {
     "data": {
      "image/png": "[encoded data removed]",
      "text/plain": [
       "<Figure size 640x480 with 1 Axes>"
      ]
     },
     "metadata": {},
     "output_type": "display_data"
    }
   ],
   "source": [
    "sns.boxplot(lst_marks)"
   ]
  },
  {
   "cell_type": "code",
   "execution_count": 13,
   "id": "52aede89-4a52-4edd-80e9-3302d6d877a7",
   "metadata": {},
   "outputs": [],
   "source": [
    "lst_marks=[-100,-200,45,32,56,75,89,54,32,89,90,87,67,54,45,98,99,67,74,150,170,180]"
   ]
  },
  {
   "cell_type": "code",
   "execution_count": 14,
   "id": "610d9e75-4af5-401c-973d-28d41b486ea0",
   "metadata": {},
   "outputs": [
    {
     "data": {
      "text/plain": [
       "<AxesSubplot: >"
      ]
     },
     "execution_count": 14,
     "metadata": {},
     "output_type": "execute_result"
    },
    {
     "data": {
      "image/png": "[encoded data removed]",
      "text/plain": [
       "<Figure size 640x480 with 1 Axes>"
      ]
     },
     "metadata": {},
     "output_type": "display_data"
    }
   ],
   "source": [
    "sns.boxplot(lst_marks)"
   ]
  },
  {
   "cell_type": "markdown",
   "id": "86030d94-4b2c-4dba-8139-cd6a75b0f466",
   "metadata": {},
   "source": [
    "## Feature Engineering (Filter Method, Wrapper Method, Embebbeded Method, Feature Selection, Recursive Feature Elimination, Backward Elimination, Forward Elimination will be pending...)\n",
    "These are feature selection teqhniques. Lets say, we have 500 features in a dataset and want to select top 10 features. We use these techniques. Looking forwrad to learn with Grad Bunker."
   ]
  },
  {
   "cell_type": "markdown",
   "id": "58eb5908-2dd4-45be-9ad6-ddcb5c16a5fd",
   "metadata": {},
   "source": [
    "## Feature Engineering (Feature Extraction) (194)\n",
    "\n",
    "* Feature Extraction:  Is a process of selecting and extracting the most important features from RAW data.  \n",
    "Lets say we want to develop an ML/DL application. Lets assume we have 1000 features in our dataset. We can train our data set with all the 1000 features. But it won't give us the best result. Like, it will take alot of taining time to predict, the model performance will decrease. What we should do is, we can pick up the most important features (20/30) out of these 1000 features to get the best result.\n",
    "\n",
    "* Types of Feature Extraction:\n",
    "\n",
    "1. Feature Scaling: \n",
    "\n",
    "Lets say in a particular dataset, we have 4 features named Age, Weight, Height and BMI(Target feature). All these features will have different units. Like, age is in form of year, Weight in kg and Height is in cm and so on. All these features will be measured in different units. \n",
    "\n",
    "There are some machine learning algorithms which works in distance metrics. Distance metrics basically means, lets say, i want to plot age and weight, and lets say i want to find out any algorithms which will look at the relation of these variables, in this kind of scenario what will happen is that, the distance between the points will get calculated in this scenario. While calculating the distance, the points value will be probably huge. Lets say, one point has the value of 32, 70 (age and weight). The very next point will have 28 and 75. Calculating the distance between these two points will take time. Imagine, if you have 500 feature in a dataset with millions of datapoints, how much time it will take to calculate the distance. There are many algorithms which uses distance metrix (Like KNN etc). \n",
    "\n",
    "To handle this kind of situation, we scale the data first in some smaller range. \n",
    "\n",
    "**The 1st technique we apply on feature scaling is: \n",
    "\n",
    "**STANDARDIZATION**--> As we know about Z-Score from Statistics, it helps us to know how many standard diviation of a specific value is away from the mean. If I want to take a specific feature and apply z-score on top of it, based on that features entire distribution, it will convert those values within some range based on the mean and the standard diviation. When we apply this formula in each and every distribution, we get mean=0 and SD=1, which is in short, STANDARD NORMAL DISTRIBUTION. This whole process is knows as STANDARDIZATION. *This technique is mostly used in ML Techniques.\n",
    "\n",
    "**The 2nd technique we apply on feature scaling is: \n",
    "\n",
    "**NORMALIZATION**--> [ Min Max Scaler] Here we are transforming the values of the feature from 0-1. *This technique is specifically used in Deep learning Techniques, where the images are inputs.\n",
    "\n",
    "**The 3rd technique we apply on feature scaling is: \n",
    "\n",
    "**UNIT VECTOR**--> This technique applies when we do feature scaling based on unit vector. Any vector that has magnitute of 1 is called as unit vector. \n",
    "\n",
    "Lets say, vector x = (3,4), which means, 3(feature1) unit movement to the right, there is a 4(feature2) unit movement in the verticalwise.\n",
    "\n",
    "To know the magnitute of x, i have to calculate the Hypotenuse (the distance between 3 and 4), which will be 5. It is done by pythogerus theorum. \n",
    "\n",
    "To find out the unit vector (1), devide the each and every side by 5 and do the calculation by the formula. \n",
    "(3/5, 4/5)\n",
    "\n",
    "\n",
    "2. Feature Selection:\n",
    "\n",
    "\n",
    "We just pick the most important feature. \n",
    "\n",
    "500 features -------> Top 10 features->ML Model Train\n",
    "\n",
    "**There are 3 major techniques to select the feature:\n",
    "\n",
    "*1st technique is Filter Method: We have various ways. One way is to find out the correlation with respect to the important features. \n",
    "\n",
    "*2nd technique is Embedded Method: \n",
    "\n",
    "*3rd technique is Wrapper Method:\n",
    "\n",
    "\n",
    "\n",
    "3. PCA (Principle Component Analysis): \n",
    "\n",
    "Lets say we have 2 features f1 and f2 (2 dimension points-2D), and an output. Now with respect to these 2 features, we can convert this 2D to 1D. This is what PCA does. Event if i have 1000D, i can convert this to 1D. But, there will be lose of of data. \n",
    "\n",
    "During the feature engineering, if we consider about 2 features in 2D, considering 1 feature in x-axis and 1 feature in y-axis, we draw a line from the data points till the x axis, where x and y is joining. We consider the points that joins in x axis and ignore the data points. This is how feature engineering done, we remove the y feature in this way. But, as we select the the x-axis points, there will be a chance that we lose alot amount of data which may have played an important role in prediction. This is where PCA plays an important role, where we do this 2D->1D, but there will be less lose of information. That basically means that, we are doing feature extraction by picking up the most important parts. \n",
    "\n",
    "What happens in PCA is that, it finds out a straight line which best fits the data points, and then it will projects the points from the datapoints in the straight line. Now, we get new data points which are located in the straight line. Initially, we had 2D. After this PCA technique, we are getting 1D. \n",
    "\n",
    "Why PCA technique is accepted? We are capturing the varience with respect to f1 and f2. We are not ignoring entire f2. It is captured. At the same time, we are converting this 2D to 1D as well. \n",
    "\n",
    "In the way of PCA, the most important features gets extracted and that way we are able to convert a higher dimention to a lower dimention. "
   ]
  },
  {
   "cell_type": "markdown",
   "id": "b8e5fde2-f23e-48f2-b179-5d960a5b3a33",
   "metadata": {},
   "source": [
    "## Feature Scaling:\n",
    "1. Standardization\n",
    "2. Normalization - Min Max Scaler\n",
    "3. Unit Vector"
   ]
  },
  {
   "cell_type": "code",
   "execution_count": 69,
   "id": "7e2a10a9-522c-4d96-adea-b195959a1dd3",
   "metadata": {},
   "outputs": [],
   "source": [
    "import seaborn as sns"
   ]
  },
  {
   "cell_type": "code",
   "execution_count": 70,
   "id": "123a673e-78e0-412f-8934-e26291a20eba",
   "metadata": {},
   "outputs": [],
   "source": [
    "df=sns.load_dataset('tips')"
   ]
  },
  {
   "cell_type": "code",
   "execution_count": 71,
   "id": "6cc33ecf-688c-4df9-baf3-ec26d656fa2d",
   "metadata": {},
   "outputs": [
    {
     "data": {
      "text/html": [
       "<div>\n",
       "<style scoped>\n",
       "    .dataframe tbody tr th:only-of-type {\n",
       "        vertical-align: middle;\n",
       "    }\n",
       "\n",
       "    .dataframe tbody tr th {\n",
       "        vertical-align: top;\n",
       "    }\n",
       "\n",
       "    .dataframe thead th {\n",
       "        text-align: right;\n",
       "    }\n",
       "</style>\n",
       "<table border=\"1\" class=\"dataframe\">\n",
       "  <thead>\n",
       "    <tr style=\"text-align: right;\">\n",
       "      <th></th>\n",
       "      <th>total_bill</th>\n",
       "      <th>tip</th>\n",
       "      <th>sex</th>\n",
       "      <th>smoker</th>\n",
       "      <th>day</th>\n",
       "      <th>time</th>\n",
       "      <th>size</th>\n",
       "    </tr>\n",
       "  </thead>\n",
       "  <tbody>\n",
       "    <tr>\n",
       "      <th>0</th>\n",
       "      <td>16.99</td>\n",
       "      <td>1.01</td>\n",
       "      <td>Female</td>\n",
       "      <td>No</td>\n",
       "      <td>Sun</td>\n",
       "      <td>Dinner</td>\n",
       "      <td>2</td>\n",
       "    </tr>\n",
       "    <tr>\n",
       "      <th>1</th>\n",
       "      <td>10.34</td>\n",
       "      <td>1.66</td>\n",
       "      <td>Male</td>\n",
       "      <td>No</td>\n",
       "      <td>Sun</td>\n",
       "      <td>Dinner</td>\n",
       "      <td>3</td>\n",
       "    </tr>\n",
       "    <tr>\n",
       "      <th>2</th>\n",
       "      <td>21.01</td>\n",
       "      <td>3.50</td>\n",
       "      <td>Male</td>\n",
       "      <td>No</td>\n",
       "      <td>Sun</td>\n",
       "      <td>Dinner</td>\n",
       "      <td>3</td>\n",
       "    </tr>\n",
       "    <tr>\n",
       "      <th>3</th>\n",
       "      <td>23.68</td>\n",
       "      <td>3.31</td>\n",
       "      <td>Male</td>\n",
       "      <td>No</td>\n",
       "      <td>Sun</td>\n",
       "      <td>Dinner</td>\n",
       "      <td>2</td>\n",
       "    </tr>\n",
       "    <tr>\n",
       "      <th>4</th>\n",
       "      <td>24.59</td>\n",
       "      <td>3.61</td>\n",
       "      <td>Female</td>\n",
       "      <td>No</td>\n",
       "      <td>Sun</td>\n",
       "      <td>Dinner</td>\n",
       "      <td>4</td>\n",
       "    </tr>\n",
       "  </tbody>\n",
       "</table>\n",
       "</div>"
      ],
      "text/plain": [
       "   total_bill   tip     sex smoker  day    time  size\n",
       "0       16.99  1.01  Female     No  Sun  Dinner     2\n",
       "1       10.34  1.66    Male     No  Sun  Dinner     3\n",
       "2       21.01  3.50    Male     No  Sun  Dinner     3\n",
       "3       23.68  3.31    Male     No  Sun  Dinner     2\n",
       "4       24.59  3.61  Female     No  Sun  Dinner     4"
      ]
     },
     "execution_count": 71,
     "metadata": {},
     "output_type": "execute_result"
    }
   ],
   "source": [
    "df.head()"
   ]
  },
  {
   "cell_type": "markdown",
   "id": "a822af63-c4ed-4c0d-9c79-e3dc33b2114f",
   "metadata": {},
   "source": [
    "## 1. Standardization and Normalization"
   ]
  },
  {
   "cell_type": "code",
   "execution_count": 73,
   "id": "49d50af2-2487-43ad-92b0-83262dd3e22f",
   "metadata": {},
   "outputs": [
    {
     "name": "stdout",
     "output_type": "stream",
     "text": [
      "19.78594262295082 8.88415057777113\n"
     ]
    }
   ],
   "source": [
    "## Manual Way Standardization\n",
    "import numpy as np\n",
    "mean = np.mean(df['total_bill']) ## We can do it with other features as well. Here i just wanted to scale total bill\n",
    "std=np.std(df['total_bill'])\n",
    "print(mean,std)"
   ]
  },
  {
   "cell_type": "code",
   "execution_count": 74,
   "id": "6d2e02bf-ca71-4c80-b26f-d65a41660a31",
   "metadata": {},
   "outputs": [],
   "source": [
    "#2. Manual Way Normalization\n",
    "normalized_data=[]\n",
    "for i in list(df['total_bill']):\n",
    "    z_score=(i-mean)/std\n",
    "    normalized_data.append(z_score)"
   ]
  },
  {
   "cell_type": "code",
   "execution_count": 75,
   "id": "c2ed9cf5-6fe2-4b05-8207-2a6e0df912a5",
   "metadata": {},
   "outputs": [
    {
     "data": {
      "text/plain": [
       "[-0.31471130509049433,\n",
       " -1.0632353132988694,\n",
       " 0.13777989987156147,\n",
       " 0.4383151031672548,\n",
       " 0.5407447042905061,\n",
       " 0.6195367051545456,\n",
       " -1.2399545152367868,\n",
       " 0.7985071071171497,\n",
       " -0.5342033074974615,\n",
       " -0.5634689078183904,\n",
       " -1.0711145133852735,\n",
       " 1.7417599174609368,\n",
       " -0.49143050702841135,\n",
       " -0.1526249033130415,\n",
       " -0.5578409077566732,\n",
       " 0.20193910057513614,\n",
       " -1.0643609133112129,\n",
       " -0.39350330595453376,\n",
       " -0.31696250511518115,\n",
       " 0.09725829942719796,\n",
       " -0.21003050394255576,\n",
       " 0.05673669898283485,\n",
       " -0.4520345065963916,\n",
       " 2.2100095225958007,\n",
       " 0.0038334984026941687,\n",
       " -0.22241210407833373,\n",
       " -0.7221785095588128,\n",
       " -0.7987193103981655,\n",
       " 0.2154463007232573,\n",
       " -0.01530170180714419,\n",
       " -1.1521577142739996,\n",
       " -0.16162970341178867,\n",
       " -0.5319521074727744,\n",
       " 0.10176069947657196,\n",
       " -0.22578890411536373,\n",
       " 0.4810879036363047,\n",
       " -0.39125210592984694,\n",
       " -0.3214649051645547,\n",
       " -0.12335930299211235,\n",
       " 1.2926455125359118,\n",
       " -0.4216433062631193,\n",
       " -0.26180810451035325,\n",
       " -0.6580193088552377,\n",
       " -1.1375249141135353,\n",
       " 1.1947183114620339,\n",
       " -0.16838330348584946,\n",
       " 0.27510310137745875,\n",
       " 1.4198383139307182,\n",
       " 0.9864823091785012,\n",
       " -0.196523303794435,\n",
       " -0.8156033105833168,\n",
       " -1.0688633133605867,\n",
       " 1.6911079169054832,\n",
       " -1.1082593137926064,\n",
       " 0.649927905487818,\n",
       " -0.03331130200463895,\n",
       " 2.0512999208553775,\n",
       " 0.7456039065370089,\n",
       " -0.9619313121879615,\n",
       " 3.2061655335197288,\n",
       " 0.05673669898283485,\n",
       " -0.6726521090157022,\n",
       " -0.9866945124595169,\n",
       " -0.16838330348584946,\n",
       " -0.24717530434988888,\n",
       " 0.033099098723622905,\n",
       " -0.375493705757039,\n",
       " -1.881546522272537,\n",
       " 0.04998309890877447,\n",
       " -0.5375801075344916,\n",
       " -0.8741345112251747,\n",
       " -0.30570650499174673,\n",
       " 0.7962559070924629,\n",
       " 0.6184111051422024,\n",
       " -0.5690969078801074,\n",
       " -1.0441001130890313,\n",
       " -0.21003050394255576,\n",
       " 0.8345263075121392,\n",
       " 0.33475990203166023,\n",
       " -0.28094330472019163,\n",
       " -0.038939302066355735,\n",
       " -0.35185610549782703,\n",
       " -1.093626513632142,\n",
       " 1.4513551142763341,\n",
       " -0.4283969063371797,\n",
       " 1.6933591169301696,\n",
       " -0.7604489099784891,\n",
       " -0.16950890349819264,\n",
       " 0.5542519044386274,\n",
       " 0.15466390005671263,\n",
       " 1.0337575096969247,\n",
       " 0.30436870169838753,\n",
       " -1.5798857189645,\n",
       " -0.39012650591750336,\n",
       " 0.33363430201931665,\n",
       " 2.2944295235215573,\n",
       " 0.8435311076108867,\n",
       " -0.8730089112128313,\n",
       " 0.13777989987156147,\n",
       " -0.824608110682064,\n",
       " -0.949549712052184,\n",
       " -0.4959329070777849,\n",
       " 2.75930232861939,\n",
       " 0.29648950161198395,\n",
       " 0.12764949976047069,\n",
       " -0.4981841071024719,\n",
       " 0.0792486992297032,\n",
       " 0.6105319050557985,\n",
       " -0.17401130354756664,\n",
       " -0.6163721083985311,\n",
       " -0.6512657087811772,\n",
       " -1.4110457171129867,\n",
       " 2.0580535209294384,\n",
       " 0.46870630350052717,\n",
       " 0.6668119056729696,\n",
       " -0.2786921046955048,\n",
       " 1.1418151108818932,\n",
       " -1.0283417129162233,\n",
       " -0.8279849107190944,\n",
       " 0.48333910366099153,\n",
       " -0.9112793116325076,\n",
       " -0.7165505094970956,\n",
       " -0.6220001084602482,\n",
       " -0.4317737063742101,\n",
       " -0.8223569106573773,\n",
       " 1.127182310721429,\n",
       " -1.2680945155453722,\n",
       " -0.5927345081393193,\n",
       " -0.9461729120151535,\n",
       " 0.3415135021057206,\n",
       " -0.07946090251071924,\n",
       " 0.054485498958148054,\n",
       " -0.9698105122743655,\n",
       " -0.8471201109289326,\n",
       " -0.17176010352287946,\n",
       " -1.2692201155577156,\n",
       " -1.0643609133112129,\n",
       " -0.6343817085960258,\n",
       " -0.4261457063124929,\n",
       " -0.7458161098180246,\n",
       " -0.26068250449801006,\n",
       " 1.6337023162759683,\n",
       " 2.409240724780586,\n",
       " 0.817642307326988,\n",
       " -0.3777449057817258,\n",
       " -1.2872297157552104,\n",
       " -0.12898730305382955,\n",
       " -0.8910185114103261,\n",
       " -1.1262689139901012,\n",
       " -1.3817801167920578,\n",
       " -0.6433865086947732,\n",
       " -0.7491929098550548,\n",
       " -0.2843201047572216,\n",
       " 0.5362423042411326,\n",
       " -0.001794501659023019,\n",
       " 1.1328103107831462,\n",
       " 3.1949095333962942,\n",
       " 0.5868943047965864,\n",
       " -0.7199273095341259,\n",
       " -0.3709913057076654,\n",
       " 0.19293430047638896,\n",
       " -0.8020961104351957,\n",
       " -0.40250810605328097,\n",
       " -0.6726521090157022,\n",
       " -0.25618010444863604,\n",
       " 0.5328655042041022,\n",
       " 0.10963989956297594,\n",
       " 1.3421719130790224,\n",
       " -1.035095312990284,\n",
       " -1.0305929129409102,\n",
       " 3.4920679366549576,\n",
       " -0.44753210654701786,\n",
       " -1.4110457171129867,\n",
       " 1.3579303132518303,\n",
       " -0.3338465053003323,\n",
       " 1.4761183145478893,\n",
       " -0.21340730397958615,\n",
       " -0.5972369081886929,\n",
       " -1.1465297142122828,\n",
       " 1.6708471166833017,\n",
       " 1.673098316707988,\n",
       " 0.3989191027352349,\n",
       " 2.8774903299154495,\n",
       " 0.38090950253774053,\n",
       " 2.337202323990607,\n",
       " 0.10176069947657196,\n",
       " 0.1253982997357835,\n",
       " 1.2014719115360948,\n",
       " -0.18414170365865742,\n",
       " 0.37303030245133656,\n",
       " -0.461039306695139,\n",
       " 0.002707898390350571,\n",
       " 0.9741007090427236,\n",
       " -0.4846769069543508,\n",
       " -0.36086090559657463,\n",
       " -1.3761521167303408,\n",
       " -1.0632353132988694,\n",
       " 2.625355927150523,\n",
       " -0.7638257100155194,\n",
       " -0.7064201093860049,\n",
       " -0.12110810296742555,\n",
       " -0.7930913103364483,\n",
       " -0.7638257100155194,\n",
       " -0.3811217058187562,\n",
       " 0.08375109927907719,\n",
       " -0.3732425057323522,\n",
       " 0.7658647067591905,\n",
       " 2.132343121744104,\n",
       " 0.5047255038955166,\n",
       " -0.7908401103117615,\n",
       " 1.1564479110423576,\n",
       " 0.687072705895151,\n",
       " 3.212919133593789,\n",
       " -0.733434509682247,\n",
       " 0.9437095087094514,\n",
       " -0.7750817101389536,\n",
       " 0.9414583086847641,\n",
       " -0.9225353117559418,\n",
       " -1.355891316508159,\n",
       " 1.1654527111411053,\n",
       " -0.8583761110523668,\n",
       " -0.7165505094970956,\n",
       " -1.2613409154713116,\n",
       " -0.4283969063371797,\n",
       " -0.7165505094970956,\n",
       " -0.39575450597922057,\n",
       " -1.091375313607455,\n",
       " 0.07474629918032961,\n",
       " -0.7323089096699036,\n",
       " 0.2627215012416812,\n",
       " 0.47545990357458795,\n",
       " -0.461039306695139,\n",
       " -0.920284111731255,\n",
       " -1.0148345127681024,\n",
       " -0.4790489068926338,\n",
       " -1.093626513632142,\n",
       " -0.8088497105092562,\n",
       " 1.4682391144614853,\n",
       " 1.8059191181645118,\n",
       " 1.0405111097709856,\n",
       " 0.8322751074874524,\n",
       " 0.32462950192056944,\n",
       " -0.22128650406599013,\n",
       " -0.11322890288102158]"
      ]
     },
     "execution_count": 75,
     "metadata": {},
     "output_type": "execute_result"
    }
   ],
   "source": [
    "normalized_data"
   ]
  },
  {
   "cell_type": "code",
   "execution_count": 51,
   "id": "4022f07e-3755-4f4a-a5fc-9a183465cd6c",
   "metadata": {},
   "outputs": [
    {
     "data": {
      "text/plain": [
       "<AxesSubplot: xlabel='total_bill', ylabel='Count'>"
      ]
     },
     "execution_count": 51,
     "metadata": {},
     "output_type": "execute_result"
    },
    {
     "data": {
      "image/png": "[encoded data removed]",
      "text/plain": [
       "<Figure size 640x480 with 1 Axes>"
      ]
     },
     "metadata": {},
     "output_type": "display_data"
    }
   ],
   "source": [
    "sns.histplot(df['total_bill'])"
   ]
  },
  {
   "cell_type": "code",
   "execution_count": 52,
   "id": "794310fa-72f1-4cc8-be6b-cc282e64def2",
   "metadata": {},
   "outputs": [
    {
     "data": {
      "text/plain": [
       "<AxesSubplot: ylabel='Count'>"
      ]
     },
     "execution_count": 52,
     "metadata": {},
     "output_type": "execute_result"
    },
    {
     "data": {
      "image/png": "[encoded data removed]",
      "text/plain": [
       "<Figure size 640x480 with 1 Axes>"
      ]
     },
     "metadata": {},
     "output_type": "display_data"
    }
   ],
   "source": [
    "sns.histplot(normalized_data)"
   ]
  },
  {
   "cell_type": "code",
   "execution_count": 53,
   "id": "b7f458f6-7610-4fcb-93e3-7b9de09d1764",
   "metadata": {},
   "outputs": [],
   "source": [
    "from sklearn.preprocessing import StandardScaler"
   ]
  },
  {
   "cell_type": "code",
   "execution_count": 54,
   "id": "629d5cc9-c43a-427e-84c1-23d72de364f5",
   "metadata": {},
   "outputs": [],
   "source": [
    "scaler = StandardScaler()"
   ]
  },
  {
   "cell_type": "code",
   "execution_count": 55,
   "id": "529840cc-7a60-421d-99be-bdff9d74bdd8",
   "metadata": {},
   "outputs": [
    {
     "data": {
      "text/html": [
       "<style>#sk-container-id-6 {color: black;background-color: white;}#sk-container-id-6 pre{padding: 0;}#sk-container-id-6 div.sk-toggleable {background-color: white;}#sk-container-id-6 label.sk-toggleable__label {cursor: pointer;display: block;width: 100%;margin-bottom: 0;padding: 0.3em;box-sizing: border-box;text-align: center;}#sk-container-id-6 label.sk-toggleable__label-arrow:before {content: \"▸\";float: left;margin-right: 0.25em;color: #696969;}#sk-container-id-6 label.sk-toggleable__label-arrow:hover:before {color: black;}#sk-container-id-6 div.sk-estimator:hover label.sk-toggleable__label-arrow:before {color: black;}#sk-container-id-6 div.sk-toggleable__content {max-height: 0;max-width: 0;overflow: hidden;text-align: left;background-color: #f0f8ff;}#sk-container-id-6 div.sk-toggleable__content pre {margin: 0.2em;color: black;border-radius: 0.25em;background-color: #f0f8ff;}#sk-container-id-6 input.sk-toggleable__control:checked~div.sk-toggleable__content {max-height: 200px;max-width: 100%;overflow: auto;}#sk-container-id-6 input.sk-toggleable__control:checked~label.sk-toggleable__label-arrow:before {content: \"▾\";}#sk-container-id-6 div.sk-estimator input.sk-toggleable__control:checked~label.sk-toggleable__label {background-color: #d4ebff;}#sk-container-id-6 div.sk-label input.sk-toggleable__control:checked~label.sk-toggleable__label {background-color: #d4ebff;}#sk-container-id-6 input.sk-hidden--visually {border: 0;clip: rect(1px 1px 1px 1px);clip: rect(1px, 1px, 1px, 1px);height: 1px;margin: -1px;overflow: hidden;padding: 0;position: absolute;width: 1px;}#sk-container-id-6 div.sk-estimator {font-family: monospace;background-color: #f0f8ff;border: 1px dotted black;border-radius: 0.25em;box-sizing: border-box;margin-bottom: 0.5em;}#sk-container-id-6 div.sk-estimator:hover {background-color: #d4ebff;}#sk-container-id-6 div.sk-parallel-item::after {content: \"\";width: 100%;border-bottom: 1px solid gray;flex-grow: 1;}#sk-container-id-6 div.sk-label:hover label.sk-toggleable__label {background-color: #d4ebff;}#sk-container-id-6 div.sk-serial::before {content: \"\";position: absolute;border-left: 1px solid gray;box-sizing: border-box;top: 0;bottom: 0;left: 50%;z-index: 0;}#sk-container-id-6 div.sk-serial {display: flex;flex-direction: column;align-items: center;background-color: white;padding-right: 0.2em;padding-left: 0.2em;position: relative;}#sk-container-id-6 div.sk-item {position: relative;z-index: 1;}#sk-container-id-6 div.sk-parallel {display: flex;align-items: stretch;justify-content: center;background-color: white;position: relative;}#sk-container-id-6 div.sk-item::before, #sk-container-id-6 div.sk-parallel-item::before {content: \"\";position: absolute;border-left: 1px solid gray;box-sizing: border-box;top: 0;bottom: 0;left: 50%;z-index: -1;}#sk-container-id-6 div.sk-parallel-item {display: flex;flex-direction: column;z-index: 1;position: relative;background-color: white;}#sk-container-id-6 div.sk-parallel-item:first-child::after {align-self: flex-end;width: 50%;}#sk-container-id-6 div.sk-parallel-item:last-child::after {align-self: flex-start;width: 50%;}#sk-container-id-6 div.sk-parallel-item:only-child::after {width: 0;}#sk-container-id-6 div.sk-dashed-wrapped {border: 1px dashed gray;margin: 0 0.4em 0.5em 0.4em;box-sizing: border-box;padding-bottom: 0.4em;background-color: white;}#sk-container-id-6 div.sk-label label {font-family: monospace;font-weight: bold;display: inline-block;line-height: 1.2em;}#sk-container-id-6 div.sk-label-container {text-align: center;}#sk-container-id-6 div.sk-container {/* jupyter's `normalize.less` sets `[hidden] { display: none; }` but bootstrap.min.css set `[hidden] { display: none !important; }` so we also need the `!important` here to be able to override the default hidden behavior on the sphinx rendered scikit-learn.org. See: https://github.com/scikit-learn/scikit-learn/issues/21755 */display: inline-block !important;position: relative;}#sk-container-id-6 div.sk-text-repr-fallback {display: none;}</style><div id=\"sk-container-id-6\" class=\"sk-top-container\"><div class=\"sk-text-repr-fallback\"><pre>StandardScaler()</pre><b>In a Jupyter environment, please rerun this cell to show the HTML representation or trust the notebook. <br />On GitHub, the HTML representation is unable to render, please try loading this page with nbviewer.org.</b></div><div class=\"sk-container\" hidden><div class=\"sk-item\"><div class=\"sk-estimator sk-toggleable\"><input class=\"sk-toggleable__control sk-hidden--visually\" id=\"sk-estimator-id-6\" type=\"checkbox\" checked><label for=\"sk-estimator-id-6\" class=\"sk-toggleable__label sk-toggleable__label-arrow\">StandardScaler</label><div class=\"sk-toggleable__content\"><pre>StandardScaler()</pre></div></div></div></div></div>"
      ],
      "text/plain": [
       "StandardScaler()"
      ]
     },
     "execution_count": 55,
     "metadata": {},
     "output_type": "execute_result"
    }
   ],
   "source": [
    "scaler"
   ]
  },
  {
   "cell_type": "code",
   "execution_count": 56,
   "id": "3d0f9535-a182-440a-89b5-9b800092d6bb",
   "metadata": {},
   "outputs": [
    {
     "data": {
      "text/html": [
       "<style>#sk-container-id-7 {color: black;background-color: white;}#sk-container-id-7 pre{padding: 0;}#sk-container-id-7 div.sk-toggleable {background-color: white;}#sk-container-id-7 label.sk-toggleable__label {cursor: pointer;display: block;width: 100%;margin-bottom: 0;padding: 0.3em;box-sizing: border-box;text-align: center;}#sk-container-id-7 label.sk-toggleable__label-arrow:before {content: \"▸\";float: left;margin-right: 0.25em;color: #696969;}#sk-container-id-7 label.sk-toggleable__label-arrow:hover:before {color: black;}#sk-container-id-7 div.sk-estimator:hover label.sk-toggleable__label-arrow:before {color: black;}#sk-container-id-7 div.sk-toggleable__content {max-height: 0;max-width: 0;overflow: hidden;text-align: left;background-color: #f0f8ff;}#sk-container-id-7 div.sk-toggleable__content pre {margin: 0.2em;color: black;border-radius: 0.25em;background-color: #f0f8ff;}#sk-container-id-7 input.sk-toggleable__control:checked~div.sk-toggleable__content {max-height: 200px;max-width: 100%;overflow: auto;}#sk-container-id-7 input.sk-toggleable__control:checked~label.sk-toggleable__label-arrow:before {content: \"▾\";}#sk-container-id-7 div.sk-estimator input.sk-toggleable__control:checked~label.sk-toggleable__label {background-color: #d4ebff;}#sk-container-id-7 div.sk-label input.sk-toggleable__control:checked~label.sk-toggleable__label {background-color: #d4ebff;}#sk-container-id-7 input.sk-hidden--visually {border: 0;clip: rect(1px 1px 1px 1px);clip: rect(1px, 1px, 1px, 1px);height: 1px;margin: -1px;overflow: hidden;padding: 0;position: absolute;width: 1px;}#sk-container-id-7 div.sk-estimator {font-family: monospace;background-color: #f0f8ff;border: 1px dotted black;border-radius: 0.25em;box-sizing: border-box;margin-bottom: 0.5em;}#sk-container-id-7 div.sk-estimator:hover {background-color: #d4ebff;}#sk-container-id-7 div.sk-parallel-item::after {content: \"\";width: 100%;border-bottom: 1px solid gray;flex-grow: 1;}#sk-container-id-7 div.sk-label:hover label.sk-toggleable__label {background-color: #d4ebff;}#sk-container-id-7 div.sk-serial::before {content: \"\";position: absolute;border-left: 1px solid gray;box-sizing: border-box;top: 0;bottom: 0;left: 50%;z-index: 0;}#sk-container-id-7 div.sk-serial {display: flex;flex-direction: column;align-items: center;background-color: white;padding-right: 0.2em;padding-left: 0.2em;position: relative;}#sk-container-id-7 div.sk-item {position: relative;z-index: 1;}#sk-container-id-7 div.sk-parallel {display: flex;align-items: stretch;justify-content: center;background-color: white;position: relative;}#sk-container-id-7 div.sk-item::before, #sk-container-id-7 div.sk-parallel-item::before {content: \"\";position: absolute;border-left: 1px solid gray;box-sizing: border-box;top: 0;bottom: 0;left: 50%;z-index: -1;}#sk-container-id-7 div.sk-parallel-item {display: flex;flex-direction: column;z-index: 1;position: relative;background-color: white;}#sk-container-id-7 div.sk-parallel-item:first-child::after {align-self: flex-end;width: 50%;}#sk-container-id-7 div.sk-parallel-item:last-child::after {align-self: flex-start;width: 50%;}#sk-container-id-7 div.sk-parallel-item:only-child::after {width: 0;}#sk-container-id-7 div.sk-dashed-wrapped {border: 1px dashed gray;margin: 0 0.4em 0.5em 0.4em;box-sizing: border-box;padding-bottom: 0.4em;background-color: white;}#sk-container-id-7 div.sk-label label {font-family: monospace;font-weight: bold;display: inline-block;line-height: 1.2em;}#sk-container-id-7 div.sk-label-container {text-align: center;}#sk-container-id-7 div.sk-container {/* jupyter's `normalize.less` sets `[hidden] { display: none; }` but bootstrap.min.css set `[hidden] { display: none !important; }` so we also need the `!important` here to be able to override the default hidden behavior on the sphinx rendered scikit-learn.org. See: https://github.com/scikit-learn/scikit-learn/issues/21755 */display: inline-block !important;position: relative;}#sk-container-id-7 div.sk-text-repr-fallback {display: none;}</style><div id=\"sk-container-id-7\" class=\"sk-top-container\"><div class=\"sk-text-repr-fallback\"><pre>StandardScaler()</pre><b>In a Jupyter environment, please rerun this cell to show the HTML representation or trust the notebook. <br />On GitHub, the HTML representation is unable to render, please try loading this page with nbviewer.org.</b></div><div class=\"sk-container\" hidden><div class=\"sk-item\"><div class=\"sk-estimator sk-toggleable\"><input class=\"sk-toggleable__control sk-hidden--visually\" id=\"sk-estimator-id-7\" type=\"checkbox\" checked><label for=\"sk-estimator-id-7\" class=\"sk-toggleable__label sk-toggleable__label-arrow\">StandardScaler</label><div class=\"sk-toggleable__content\"><pre>StandardScaler()</pre></div></div></div></div></div>"
      ],
      "text/plain": [
       "StandardScaler()"
      ]
     },
     "execution_count": 56,
     "metadata": {},
     "output_type": "execute_result"
    }
   ],
   "source": [
    "scaler.fit(df[['total_bill']])"
   ]
  },
  {
   "cell_type": "code",
   "execution_count": 57,
   "id": "db97561e-b5cb-44f7-b152-1cbb115dab2b",
   "metadata": {},
   "outputs": [
    {
     "data": {
      "text/plain": [
       "array([[-3.14711305e-01],\n",
       "       [-1.06323531e+00],\n",
       "       [ 1.37779900e-01],\n",
       "       [ 4.38315103e-01],\n",
       "       [ 5.40744704e-01],\n",
       "       [ 6.19536705e-01],\n",
       "       [-1.23995452e+00],\n",
       "       [ 7.98507107e-01],\n",
       "       [-5.34203307e-01],\n",
       "       [-5.63468908e-01],\n",
       "       [-1.07111451e+00],\n",
       "       [ 1.74175992e+00],\n",
       "       [-4.91430507e-01],\n",
       "       [-1.52624903e-01],\n",
       "       [-5.57840908e-01],\n",
       "       [ 2.01939101e-01],\n",
       "       [-1.06436091e+00],\n",
       "       [-3.93503306e-01],\n",
       "       [-3.16962505e-01],\n",
       "       [ 9.72582994e-02],\n",
       "       [-2.10030504e-01],\n",
       "       [ 5.67366990e-02],\n",
       "       [-4.52034507e-01],\n",
       "       [ 2.21000952e+00],\n",
       "       [ 3.83349840e-03],\n",
       "       [-2.22412104e-01],\n",
       "       [-7.22178510e-01],\n",
       "       [-7.98719310e-01],\n",
       "       [ 2.15446301e-01],\n",
       "       [-1.53017018e-02],\n",
       "       [-1.15215771e+00],\n",
       "       [-1.61629703e-01],\n",
       "       [-5.31952107e-01],\n",
       "       [ 1.01760699e-01],\n",
       "       [-2.25788904e-01],\n",
       "       [ 4.81087904e-01],\n",
       "       [-3.91252106e-01],\n",
       "       [-3.21464905e-01],\n",
       "       [-1.23359303e-01],\n",
       "       [ 1.29264551e+00],\n",
       "       [-4.21643306e-01],\n",
       "       [-2.61808105e-01],\n",
       "       [-6.58019309e-01],\n",
       "       [-1.13752491e+00],\n",
       "       [ 1.19471831e+00],\n",
       "       [-1.68383303e-01],\n",
       "       [ 2.75103101e-01],\n",
       "       [ 1.41983831e+00],\n",
       "       [ 9.86482309e-01],\n",
       "       [-1.96523304e-01],\n",
       "       [-8.15603311e-01],\n",
       "       [-1.06886331e+00],\n",
       "       [ 1.69110792e+00],\n",
       "       [-1.10825931e+00],\n",
       "       [ 6.49927905e-01],\n",
       "       [-3.33113020e-02],\n",
       "       [ 2.05129992e+00],\n",
       "       [ 7.45603907e-01],\n",
       "       [-9.61931312e-01],\n",
       "       [ 3.20616553e+00],\n",
       "       [ 5.67366990e-02],\n",
       "       [-6.72652109e-01],\n",
       "       [-9.86694512e-01],\n",
       "       [-1.68383303e-01],\n",
       "       [-2.47175304e-01],\n",
       "       [ 3.30990987e-02],\n",
       "       [-3.75493706e-01],\n",
       "       [-1.88154652e+00],\n",
       "       [ 4.99830989e-02],\n",
       "       [-5.37580108e-01],\n",
       "       [-8.74134511e-01],\n",
       "       [-3.05706505e-01],\n",
       "       [ 7.96255907e-01],\n",
       "       [ 6.18411105e-01],\n",
       "       [-5.69096908e-01],\n",
       "       [-1.04410011e+00],\n",
       "       [-2.10030504e-01],\n",
       "       [ 8.34526308e-01],\n",
       "       [ 3.34759902e-01],\n",
       "       [-2.80943305e-01],\n",
       "       [-3.89393021e-02],\n",
       "       [-3.51856105e-01],\n",
       "       [-1.09362651e+00],\n",
       "       [ 1.45135511e+00],\n",
       "       [-4.28396906e-01],\n",
       "       [ 1.69335912e+00],\n",
       "       [-7.60448910e-01],\n",
       "       [-1.69508903e-01],\n",
       "       [ 5.54251904e-01],\n",
       "       [ 1.54663900e-01],\n",
       "       [ 1.03375751e+00],\n",
       "       [ 3.04368702e-01],\n",
       "       [-1.57988572e+00],\n",
       "       [-3.90126506e-01],\n",
       "       [ 3.33634302e-01],\n",
       "       [ 2.29442952e+00],\n",
       "       [ 8.43531108e-01],\n",
       "       [-8.73008911e-01],\n",
       "       [ 1.37779900e-01],\n",
       "       [-8.24608111e-01],\n",
       "       [-9.49549712e-01],\n",
       "       [-4.95932907e-01],\n",
       "       [ 2.75930233e+00],\n",
       "       [ 2.96489502e-01],\n",
       "       [ 1.27649500e-01],\n",
       "       [-4.98184107e-01],\n",
       "       [ 7.92486992e-02],\n",
       "       [ 6.10531905e-01],\n",
       "       [-1.74011304e-01],\n",
       "       [-6.16372108e-01],\n",
       "       [-6.51265709e-01],\n",
       "       [-1.41104572e+00],\n",
       "       [ 2.05805352e+00],\n",
       "       [ 4.68706304e-01],\n",
       "       [ 6.66811906e-01],\n",
       "       [-2.78692105e-01],\n",
       "       [ 1.14181511e+00],\n",
       "       [-1.02834171e+00],\n",
       "       [-8.27984911e-01],\n",
       "       [ 4.83339104e-01],\n",
       "       [-9.11279312e-01],\n",
       "       [-7.16550509e-01],\n",
       "       [-6.22000108e-01],\n",
       "       [-4.31773706e-01],\n",
       "       [-8.22356911e-01],\n",
       "       [ 1.12718231e+00],\n",
       "       [-1.26809452e+00],\n",
       "       [-5.92734508e-01],\n",
       "       [-9.46172912e-01],\n",
       "       [ 3.41513502e-01],\n",
       "       [-7.94609025e-02],\n",
       "       [ 5.44854990e-02],\n",
       "       [-9.69810512e-01],\n",
       "       [-8.47120111e-01],\n",
       "       [-1.71760104e-01],\n",
       "       [-1.26922012e+00],\n",
       "       [-1.06436091e+00],\n",
       "       [-6.34381709e-01],\n",
       "       [-4.26145706e-01],\n",
       "       [-7.45816110e-01],\n",
       "       [-2.60682504e-01],\n",
       "       [ 1.63370232e+00],\n",
       "       [ 2.40924072e+00],\n",
       "       [ 8.17642307e-01],\n",
       "       [-3.77744906e-01],\n",
       "       [-1.28722972e+00],\n",
       "       [-1.28987303e-01],\n",
       "       [-8.91018511e-01],\n",
       "       [-1.12626891e+00],\n",
       "       [-1.38178012e+00],\n",
       "       [-6.43386509e-01],\n",
       "       [-7.49192910e-01],\n",
       "       [-2.84320105e-01],\n",
       "       [ 5.36242304e-01],\n",
       "       [-1.79450166e-03],\n",
       "       [ 1.13281031e+00],\n",
       "       [ 3.19490953e+00],\n",
       "       [ 5.86894305e-01],\n",
       "       [-7.19927310e-01],\n",
       "       [-3.70991306e-01],\n",
       "       [ 1.92934300e-01],\n",
       "       [-8.02096110e-01],\n",
       "       [-4.02508106e-01],\n",
       "       [-6.72652109e-01],\n",
       "       [-2.56180104e-01],\n",
       "       [ 5.32865504e-01],\n",
       "       [ 1.09639900e-01],\n",
       "       [ 1.34217191e+00],\n",
       "       [-1.03509531e+00],\n",
       "       [-1.03059291e+00],\n",
       "       [ 3.49206794e+00],\n",
       "       [-4.47532107e-01],\n",
       "       [-1.41104572e+00],\n",
       "       [ 1.35793031e+00],\n",
       "       [-3.33846505e-01],\n",
       "       [ 1.47611831e+00],\n",
       "       [-2.13407304e-01],\n",
       "       [-5.97236908e-01],\n",
       "       [-1.14652971e+00],\n",
       "       [ 1.67084712e+00],\n",
       "       [ 1.67309832e+00],\n",
       "       [ 3.98919103e-01],\n",
       "       [ 2.87749033e+00],\n",
       "       [ 3.80909503e-01],\n",
       "       [ 2.33720232e+00],\n",
       "       [ 1.01760699e-01],\n",
       "       [ 1.25398300e-01],\n",
       "       [ 1.20147191e+00],\n",
       "       [-1.84141704e-01],\n",
       "       [ 3.73030302e-01],\n",
       "       [-4.61039307e-01],\n",
       "       [ 2.70789839e-03],\n",
       "       [ 9.74100709e-01],\n",
       "       [-4.84676907e-01],\n",
       "       [-3.60860906e-01],\n",
       "       [-1.37615212e+00],\n",
       "       [-1.06323531e+00],\n",
       "       [ 2.62535593e+00],\n",
       "       [-7.63825710e-01],\n",
       "       [-7.06420109e-01],\n",
       "       [-1.21108103e-01],\n",
       "       [-7.93091310e-01],\n",
       "       [-7.63825710e-01],\n",
       "       [-3.81121706e-01],\n",
       "       [ 8.37510993e-02],\n",
       "       [-3.73242506e-01],\n",
       "       [ 7.65864707e-01],\n",
       "       [ 2.13234312e+00],\n",
       "       [ 5.04725504e-01],\n",
       "       [-7.90840110e-01],\n",
       "       [ 1.15644791e+00],\n",
       "       [ 6.87072706e-01],\n",
       "       [ 3.21291913e+00],\n",
       "       [-7.33434510e-01],\n",
       "       [ 9.43709509e-01],\n",
       "       [-7.75081710e-01],\n",
       "       [ 9.41458309e-01],\n",
       "       [-9.22535312e-01],\n",
       "       [-1.35589132e+00],\n",
       "       [ 1.16545271e+00],\n",
       "       [-8.58376111e-01],\n",
       "       [-7.16550509e-01],\n",
       "       [-1.26134092e+00],\n",
       "       [-4.28396906e-01],\n",
       "       [-7.16550509e-01],\n",
       "       [-3.95754506e-01],\n",
       "       [-1.09137531e+00],\n",
       "       [ 7.47462992e-02],\n",
       "       [-7.32308910e-01],\n",
       "       [ 2.62721501e-01],\n",
       "       [ 4.75459904e-01],\n",
       "       [-4.61039307e-01],\n",
       "       [-9.20284112e-01],\n",
       "       [-1.01483451e+00],\n",
       "       [-4.79048907e-01],\n",
       "       [-1.09362651e+00],\n",
       "       [-8.08849711e-01],\n",
       "       [ 1.46823911e+00],\n",
       "       [ 1.80591912e+00],\n",
       "       [ 1.04051111e+00],\n",
       "       [ 8.32275107e-01],\n",
       "       [ 3.24629502e-01],\n",
       "       [-2.21286504e-01],\n",
       "       [-1.13228903e-01]])"
      ]
     },
     "execution_count": 57,
     "metadata": {},
     "output_type": "execute_result"
    }
   ],
   "source": [
    "scaler.transform(df[['total_bill']])"
   ]
  },
  {
   "cell_type": "code",
   "execution_count": 58,
   "id": "9d079c97-d037-4492-ae59-5e96e3525c0c",
   "metadata": {},
   "outputs": [
    {
     "data": {
      "text/plain": [
       "array([[-3.14711305e-01],\n",
       "       [-1.06323531e+00],\n",
       "       [ 1.37779900e-01],\n",
       "       [ 4.38315103e-01],\n",
       "       [ 5.40744704e-01],\n",
       "       [ 6.19536705e-01],\n",
       "       [-1.23995452e+00],\n",
       "       [ 7.98507107e-01],\n",
       "       [-5.34203307e-01],\n",
       "       [-5.63468908e-01],\n",
       "       [-1.07111451e+00],\n",
       "       [ 1.74175992e+00],\n",
       "       [-4.91430507e-01],\n",
       "       [-1.52624903e-01],\n",
       "       [-5.57840908e-01],\n",
       "       [ 2.01939101e-01],\n",
       "       [-1.06436091e+00],\n",
       "       [-3.93503306e-01],\n",
       "       [-3.16962505e-01],\n",
       "       [ 9.72582994e-02],\n",
       "       [-2.10030504e-01],\n",
       "       [ 5.67366990e-02],\n",
       "       [-4.52034507e-01],\n",
       "       [ 2.21000952e+00],\n",
       "       [ 3.83349840e-03],\n",
       "       [-2.22412104e-01],\n",
       "       [-7.22178510e-01],\n",
       "       [-7.98719310e-01],\n",
       "       [ 2.15446301e-01],\n",
       "       [-1.53017018e-02],\n",
       "       [-1.15215771e+00],\n",
       "       [-1.61629703e-01],\n",
       "       [-5.31952107e-01],\n",
       "       [ 1.01760699e-01],\n",
       "       [-2.25788904e-01],\n",
       "       [ 4.81087904e-01],\n",
       "       [-3.91252106e-01],\n",
       "       [-3.21464905e-01],\n",
       "       [-1.23359303e-01],\n",
       "       [ 1.29264551e+00],\n",
       "       [-4.21643306e-01],\n",
       "       [-2.61808105e-01],\n",
       "       [-6.58019309e-01],\n",
       "       [-1.13752491e+00],\n",
       "       [ 1.19471831e+00],\n",
       "       [-1.68383303e-01],\n",
       "       [ 2.75103101e-01],\n",
       "       [ 1.41983831e+00],\n",
       "       [ 9.86482309e-01],\n",
       "       [-1.96523304e-01],\n",
       "       [-8.15603311e-01],\n",
       "       [-1.06886331e+00],\n",
       "       [ 1.69110792e+00],\n",
       "       [-1.10825931e+00],\n",
       "       [ 6.49927905e-01],\n",
       "       [-3.33113020e-02],\n",
       "       [ 2.05129992e+00],\n",
       "       [ 7.45603907e-01],\n",
       "       [-9.61931312e-01],\n",
       "       [ 3.20616553e+00],\n",
       "       [ 5.67366990e-02],\n",
       "       [-6.72652109e-01],\n",
       "       [-9.86694512e-01],\n",
       "       [-1.68383303e-01],\n",
       "       [-2.47175304e-01],\n",
       "       [ 3.30990987e-02],\n",
       "       [-3.75493706e-01],\n",
       "       [-1.88154652e+00],\n",
       "       [ 4.99830989e-02],\n",
       "       [-5.37580108e-01],\n",
       "       [-8.74134511e-01],\n",
       "       [-3.05706505e-01],\n",
       "       [ 7.96255907e-01],\n",
       "       [ 6.18411105e-01],\n",
       "       [-5.69096908e-01],\n",
       "       [-1.04410011e+00],\n",
       "       [-2.10030504e-01],\n",
       "       [ 8.34526308e-01],\n",
       "       [ 3.34759902e-01],\n",
       "       [-2.80943305e-01],\n",
       "       [-3.89393021e-02],\n",
       "       [-3.51856105e-01],\n",
       "       [-1.09362651e+00],\n",
       "       [ 1.45135511e+00],\n",
       "       [-4.28396906e-01],\n",
       "       [ 1.69335912e+00],\n",
       "       [-7.60448910e-01],\n",
       "       [-1.69508903e-01],\n",
       "       [ 5.54251904e-01],\n",
       "       [ 1.54663900e-01],\n",
       "       [ 1.03375751e+00],\n",
       "       [ 3.04368702e-01],\n",
       "       [-1.57988572e+00],\n",
       "       [-3.90126506e-01],\n",
       "       [ 3.33634302e-01],\n",
       "       [ 2.29442952e+00],\n",
       "       [ 8.43531108e-01],\n",
       "       [-8.73008911e-01],\n",
       "       [ 1.37779900e-01],\n",
       "       [-8.24608111e-01],\n",
       "       [-9.49549712e-01],\n",
       "       [-4.95932907e-01],\n",
       "       [ 2.75930233e+00],\n",
       "       [ 2.96489502e-01],\n",
       "       [ 1.27649500e-01],\n",
       "       [-4.98184107e-01],\n",
       "       [ 7.92486992e-02],\n",
       "       [ 6.10531905e-01],\n",
       "       [-1.74011304e-01],\n",
       "       [-6.16372108e-01],\n",
       "       [-6.51265709e-01],\n",
       "       [-1.41104572e+00],\n",
       "       [ 2.05805352e+00],\n",
       "       [ 4.68706304e-01],\n",
       "       [ 6.66811906e-01],\n",
       "       [-2.78692105e-01],\n",
       "       [ 1.14181511e+00],\n",
       "       [-1.02834171e+00],\n",
       "       [-8.27984911e-01],\n",
       "       [ 4.83339104e-01],\n",
       "       [-9.11279312e-01],\n",
       "       [-7.16550509e-01],\n",
       "       [-6.22000108e-01],\n",
       "       [-4.31773706e-01],\n",
       "       [-8.22356911e-01],\n",
       "       [ 1.12718231e+00],\n",
       "       [-1.26809452e+00],\n",
       "       [-5.92734508e-01],\n",
       "       [-9.46172912e-01],\n",
       "       [ 3.41513502e-01],\n",
       "       [-7.94609025e-02],\n",
       "       [ 5.44854990e-02],\n",
       "       [-9.69810512e-01],\n",
       "       [-8.47120111e-01],\n",
       "       [-1.71760104e-01],\n",
       "       [-1.26922012e+00],\n",
       "       [-1.06436091e+00],\n",
       "       [-6.34381709e-01],\n",
       "       [-4.26145706e-01],\n",
       "       [-7.45816110e-01],\n",
       "       [-2.60682504e-01],\n",
       "       [ 1.63370232e+00],\n",
       "       [ 2.40924072e+00],\n",
       "       [ 8.17642307e-01],\n",
       "       [-3.77744906e-01],\n",
       "       [-1.28722972e+00],\n",
       "       [-1.28987303e-01],\n",
       "       [-8.91018511e-01],\n",
       "       [-1.12626891e+00],\n",
       "       [-1.38178012e+00],\n",
       "       [-6.43386509e-01],\n",
       "       [-7.49192910e-01],\n",
       "       [-2.84320105e-01],\n",
       "       [ 5.36242304e-01],\n",
       "       [-1.79450166e-03],\n",
       "       [ 1.13281031e+00],\n",
       "       [ 3.19490953e+00],\n",
       "       [ 5.86894305e-01],\n",
       "       [-7.19927310e-01],\n",
       "       [-3.70991306e-01],\n",
       "       [ 1.92934300e-01],\n",
       "       [-8.02096110e-01],\n",
       "       [-4.02508106e-01],\n",
       "       [-6.72652109e-01],\n",
       "       [-2.56180104e-01],\n",
       "       [ 5.32865504e-01],\n",
       "       [ 1.09639900e-01],\n",
       "       [ 1.34217191e+00],\n",
       "       [-1.03509531e+00],\n",
       "       [-1.03059291e+00],\n",
       "       [ 3.49206794e+00],\n",
       "       [-4.47532107e-01],\n",
       "       [-1.41104572e+00],\n",
       "       [ 1.35793031e+00],\n",
       "       [-3.33846505e-01],\n",
       "       [ 1.47611831e+00],\n",
       "       [-2.13407304e-01],\n",
       "       [-5.97236908e-01],\n",
       "       [-1.14652971e+00],\n",
       "       [ 1.67084712e+00],\n",
       "       [ 1.67309832e+00],\n",
       "       [ 3.98919103e-01],\n",
       "       [ 2.87749033e+00],\n",
       "       [ 3.80909503e-01],\n",
       "       [ 2.33720232e+00],\n",
       "       [ 1.01760699e-01],\n",
       "       [ 1.25398300e-01],\n",
       "       [ 1.20147191e+00],\n",
       "       [-1.84141704e-01],\n",
       "       [ 3.73030302e-01],\n",
       "       [-4.61039307e-01],\n",
       "       [ 2.70789839e-03],\n",
       "       [ 9.74100709e-01],\n",
       "       [-4.84676907e-01],\n",
       "       [-3.60860906e-01],\n",
       "       [-1.37615212e+00],\n",
       "       [-1.06323531e+00],\n",
       "       [ 2.62535593e+00],\n",
       "       [-7.63825710e-01],\n",
       "       [-7.06420109e-01],\n",
       "       [-1.21108103e-01],\n",
       "       [-7.93091310e-01],\n",
       "       [-7.63825710e-01],\n",
       "       [-3.81121706e-01],\n",
       "       [ 8.37510993e-02],\n",
       "       [-3.73242506e-01],\n",
       "       [ 7.65864707e-01],\n",
       "       [ 2.13234312e+00],\n",
       "       [ 5.04725504e-01],\n",
       "       [-7.90840110e-01],\n",
       "       [ 1.15644791e+00],\n",
       "       [ 6.87072706e-01],\n",
       "       [ 3.21291913e+00],\n",
       "       [-7.33434510e-01],\n",
       "       [ 9.43709509e-01],\n",
       "       [-7.75081710e-01],\n",
       "       [ 9.41458309e-01],\n",
       "       [-9.22535312e-01],\n",
       "       [-1.35589132e+00],\n",
       "       [ 1.16545271e+00],\n",
       "       [-8.58376111e-01],\n",
       "       [-7.16550509e-01],\n",
       "       [-1.26134092e+00],\n",
       "       [-4.28396906e-01],\n",
       "       [-7.16550509e-01],\n",
       "       [-3.95754506e-01],\n",
       "       [-1.09137531e+00],\n",
       "       [ 7.47462992e-02],\n",
       "       [-7.32308910e-01],\n",
       "       [ 2.62721501e-01],\n",
       "       [ 4.75459904e-01],\n",
       "       [-4.61039307e-01],\n",
       "       [-9.20284112e-01],\n",
       "       [-1.01483451e+00],\n",
       "       [-4.79048907e-01],\n",
       "       [-1.09362651e+00],\n",
       "       [-8.08849711e-01],\n",
       "       [ 1.46823911e+00],\n",
       "       [ 1.80591912e+00],\n",
       "       [ 1.04051111e+00],\n",
       "       [ 8.32275107e-01],\n",
       "       [ 3.24629502e-01],\n",
       "       [-2.21286504e-01],\n",
       "       [-1.13228903e-01]])"
      ]
     },
     "execution_count": 58,
     "metadata": {},
     "output_type": "execute_result"
    }
   ],
   "source": [
    "## Instead of writing two lines of code, we can do it writing in a short way\n",
    "scaler.fit_transform(df[['total_bill']])"
   ]
  },
  {
   "cell_type": "code",
   "execution_count": 59,
   "id": "89eefb8f-94e8-4cf0-bdf4-15da5fecf871",
   "metadata": {},
   "outputs": [
    {
     "data": {
      "text/html": [
       "<div>\n",
       "<style scoped>\n",
       "    .dataframe tbody tr th:only-of-type {\n",
       "        vertical-align: middle;\n",
       "    }\n",
       "\n",
       "    .dataframe tbody tr th {\n",
       "        vertical-align: top;\n",
       "    }\n",
       "\n",
       "    .dataframe thead th {\n",
       "        text-align: right;\n",
       "    }\n",
       "</style>\n",
       "<table border=\"1\" class=\"dataframe\">\n",
       "  <thead>\n",
       "    <tr style=\"text-align: right;\">\n",
       "      <th></th>\n",
       "      <th>total_bill</th>\n",
       "      <th>tip</th>\n",
       "    </tr>\n",
       "  </thead>\n",
       "  <tbody>\n",
       "    <tr>\n",
       "      <th>0</th>\n",
       "      <td>-0.314711</td>\n",
       "      <td>-1.439947</td>\n",
       "    </tr>\n",
       "    <tr>\n",
       "      <th>1</th>\n",
       "      <td>-1.063235</td>\n",
       "      <td>-0.969205</td>\n",
       "    </tr>\n",
       "    <tr>\n",
       "      <th>2</th>\n",
       "      <td>0.137780</td>\n",
       "      <td>0.363356</td>\n",
       "    </tr>\n",
       "    <tr>\n",
       "      <th>3</th>\n",
       "      <td>0.438315</td>\n",
       "      <td>0.225754</td>\n",
       "    </tr>\n",
       "    <tr>\n",
       "      <th>4</th>\n",
       "      <td>0.540745</td>\n",
       "      <td>0.443020</td>\n",
       "    </tr>\n",
       "    <tr>\n",
       "      <th>...</th>\n",
       "      <td>...</td>\n",
       "      <td>...</td>\n",
       "    </tr>\n",
       "    <tr>\n",
       "      <th>239</th>\n",
       "      <td>1.040511</td>\n",
       "      <td>2.115963</td>\n",
       "    </tr>\n",
       "    <tr>\n",
       "      <th>240</th>\n",
       "      <td>0.832275</td>\n",
       "      <td>-0.722971</td>\n",
       "    </tr>\n",
       "    <tr>\n",
       "      <th>241</th>\n",
       "      <td>0.324630</td>\n",
       "      <td>-0.722971</td>\n",
       "    </tr>\n",
       "    <tr>\n",
       "      <th>242</th>\n",
       "      <td>-0.221287</td>\n",
       "      <td>-0.904026</td>\n",
       "    </tr>\n",
       "    <tr>\n",
       "      <th>243</th>\n",
       "      <td>-0.113229</td>\n",
       "      <td>0.001247</td>\n",
       "    </tr>\n",
       "  </tbody>\n",
       "</table>\n",
       "<p>244 rows × 2 columns</p>\n",
       "</div>"
      ],
      "text/plain": [
       "     total_bill       tip\n",
       "0     -0.314711 -1.439947\n",
       "1     -1.063235 -0.969205\n",
       "2      0.137780  0.363356\n",
       "3      0.438315  0.225754\n",
       "4      0.540745  0.443020\n",
       "..          ...       ...\n",
       "239    1.040511  2.115963\n",
       "240    0.832275 -0.722971\n",
       "241    0.324630 -0.722971\n",
       "242   -0.221287 -0.904026\n",
       "243   -0.113229  0.001247\n",
       "\n",
       "[244 rows x 2 columns]"
      ]
     },
     "execution_count": 59,
     "metadata": {},
     "output_type": "execute_result"
    }
   ],
   "source": [
    "## We can do for more than 1 feature as well in below way:\n",
    "import pandas as pd\n",
    "pd.DataFrame(scaler.fit_transform(df[['total_bill', 'tip']]), columns=['total_bill','tip'])"
   ]
  },
  {
   "cell_type": "code",
   "execution_count": 29,
   "id": "c4f75e79-e789-48bc-88f6-a5582399256f",
   "metadata": {},
   "outputs": [
    {
     "name": "stderr",
     "output_type": "stream",
     "text": [
      "/opt/conda/lib/python3.10/site-packages/sklearn/base.py:409: UserWarning: X does not have valid feature names, but StandardScaler was fitted with feature names\n",
      "  warnings.warn(\n"
     ]
    },
    {
     "data": {
      "text/plain": [
       "array([[-0.76382571,  0.72546447]])"
      ]
     },
     "execution_count": 29,
     "metadata": {},
     "output_type": "execute_result"
    }
   ],
   "source": [
    "# We can transform any new values that comes over there. Once we create a model, after that, with prediction, new data will come. So again, i have to do the feature scalling. And i have to do the feature scaling based on the data that i have already done. \n",
    "scaler.transform([[13,4]])"
   ]
  },
  {
   "cell_type": "markdown",
   "id": "1258c4ec-d508-42bd-8695-cd82c6424475",
   "metadata": {},
   "source": [
    "## 2. Normalization -- Min Max Scaler"
   ]
  },
  {
   "cell_type": "code",
   "execution_count": 60,
   "id": "f9871d08-03cf-453e-bbb9-dcb0474b33fa",
   "metadata": {},
   "outputs": [
    {
     "data": {
      "text/html": [
       "<div>\n",
       "<style scoped>\n",
       "    .dataframe tbody tr th:only-of-type {\n",
       "        vertical-align: middle;\n",
       "    }\n",
       "\n",
       "    .dataframe tbody tr th {\n",
       "        vertical-align: top;\n",
       "    }\n",
       "\n",
       "    .dataframe thead th {\n",
       "        text-align: right;\n",
       "    }\n",
       "</style>\n",
       "<table border=\"1\" class=\"dataframe\">\n",
       "  <thead>\n",
       "    <tr style=\"text-align: right;\">\n",
       "      <th></th>\n",
       "      <th>pickup</th>\n",
       "      <th>dropoff</th>\n",
       "      <th>passengers</th>\n",
       "      <th>distance</th>\n",
       "      <th>fare</th>\n",
       "      <th>tip</th>\n",
       "      <th>tolls</th>\n",
       "      <th>total</th>\n",
       "      <th>color</th>\n",
       "      <th>payment</th>\n",
       "      <th>pickup_zone</th>\n",
       "      <th>dropoff_zone</th>\n",
       "      <th>pickup_borough</th>\n",
       "      <th>dropoff_borough</th>\n",
       "    </tr>\n",
       "  </thead>\n",
       "  <tbody>\n",
       "    <tr>\n",
       "      <th>0</th>\n",
       "      <td>2019-03-23 20:21:09</td>\n",
       "      <td>2019-03-23 20:27:24</td>\n",
       "      <td>1</td>\n",
       "      <td>1.60</td>\n",
       "      <td>7.0</td>\n",
       "      <td>2.15</td>\n",
       "      <td>0.0</td>\n",
       "      <td>12.95</td>\n",
       "      <td>yellow</td>\n",
       "      <td>credit card</td>\n",
       "      <td>Lenox Hill West</td>\n",
       "      <td>UN/Turtle Bay South</td>\n",
       "      <td>Manhattan</td>\n",
       "      <td>Manhattan</td>\n",
       "    </tr>\n",
       "    <tr>\n",
       "      <th>1</th>\n",
       "      <td>2019-03-04 16:11:55</td>\n",
       "      <td>2019-03-04 16:19:00</td>\n",
       "      <td>1</td>\n",
       "      <td>0.79</td>\n",
       "      <td>5.0</td>\n",
       "      <td>0.00</td>\n",
       "      <td>0.0</td>\n",
       "      <td>9.30</td>\n",
       "      <td>yellow</td>\n",
       "      <td>cash</td>\n",
       "      <td>Upper West Side South</td>\n",
       "      <td>Upper West Side South</td>\n",
       "      <td>Manhattan</td>\n",
       "      <td>Manhattan</td>\n",
       "    </tr>\n",
       "    <tr>\n",
       "      <th>2</th>\n",
       "      <td>2019-03-27 17:53:01</td>\n",
       "      <td>2019-03-27 18:00:25</td>\n",
       "      <td>1</td>\n",
       "      <td>1.37</td>\n",
       "      <td>7.5</td>\n",
       "      <td>2.36</td>\n",
       "      <td>0.0</td>\n",
       "      <td>14.16</td>\n",
       "      <td>yellow</td>\n",
       "      <td>credit card</td>\n",
       "      <td>Alphabet City</td>\n",
       "      <td>West Village</td>\n",
       "      <td>Manhattan</td>\n",
       "      <td>Manhattan</td>\n",
       "    </tr>\n",
       "    <tr>\n",
       "      <th>3</th>\n",
       "      <td>2019-03-10 01:23:59</td>\n",
       "      <td>2019-03-10 01:49:51</td>\n",
       "      <td>1</td>\n",
       "      <td>7.70</td>\n",
       "      <td>27.0</td>\n",
       "      <td>6.15</td>\n",
       "      <td>0.0</td>\n",
       "      <td>36.95</td>\n",
       "      <td>yellow</td>\n",
       "      <td>credit card</td>\n",
       "      <td>Hudson Sq</td>\n",
       "      <td>Yorkville West</td>\n",
       "      <td>Manhattan</td>\n",
       "      <td>Manhattan</td>\n",
       "    </tr>\n",
       "    <tr>\n",
       "      <th>4</th>\n",
       "      <td>2019-03-30 13:27:42</td>\n",
       "      <td>2019-03-30 13:37:14</td>\n",
       "      <td>3</td>\n",
       "      <td>2.16</td>\n",
       "      <td>9.0</td>\n",
       "      <td>1.10</td>\n",
       "      <td>0.0</td>\n",
       "      <td>13.40</td>\n",
       "      <td>yellow</td>\n",
       "      <td>credit card</td>\n",
       "      <td>Midtown East</td>\n",
       "      <td>Yorkville West</td>\n",
       "      <td>Manhattan</td>\n",
       "      <td>Manhattan</td>\n",
       "    </tr>\n",
       "  </tbody>\n",
       "</table>\n",
       "</div>"
      ],
      "text/plain": [
       "               pickup             dropoff  passengers  distance  fare   tip  \\\n",
       "0 2019-03-23 20:21:09 2019-03-23 20:27:24           1      1.60   7.0  2.15   \n",
       "1 2019-03-04 16:11:55 2019-03-04 16:19:00           1      0.79   5.0  0.00   \n",
       "2 2019-03-27 17:53:01 2019-03-27 18:00:25           1      1.37   7.5  2.36   \n",
       "3 2019-03-10 01:23:59 2019-03-10 01:49:51           1      7.70  27.0  6.15   \n",
       "4 2019-03-30 13:27:42 2019-03-30 13:37:14           3      2.16   9.0  1.10   \n",
       "\n",
       "   tolls  total   color      payment            pickup_zone  \\\n",
       "0    0.0  12.95  yellow  credit card        Lenox Hill West   \n",
       "1    0.0   9.30  yellow         cash  Upper West Side South   \n",
       "2    0.0  14.16  yellow  credit card          Alphabet City   \n",
       "3    0.0  36.95  yellow  credit card              Hudson Sq   \n",
       "4    0.0  13.40  yellow  credit card           Midtown East   \n",
       "\n",
       "            dropoff_zone pickup_borough dropoff_borough  \n",
       "0    UN/Turtle Bay South      Manhattan       Manhattan  \n",
       "1  Upper West Side South      Manhattan       Manhattan  \n",
       "2           West Village      Manhattan       Manhattan  \n",
       "3         Yorkville West      Manhattan       Manhattan  \n",
       "4         Yorkville West      Manhattan       Manhattan  "
      ]
     },
     "execution_count": 60,
     "metadata": {},
     "output_type": "execute_result"
    }
   ],
   "source": [
    "df=sns.load_dataset('taxis')\n",
    "df.head()"
   ]
  },
  {
   "cell_type": "code",
   "execution_count": 61,
   "id": "55beeaa0-5e16-42b2-9847-e0a02bc3a64c",
   "metadata": {},
   "outputs": [],
   "source": [
    "from sklearn.preprocessing import MinMaxScaler"
   ]
  },
  {
   "cell_type": "code",
   "execution_count": 62,
   "id": "2b63c010-0de2-4cd3-94cb-fb0242704821",
   "metadata": {},
   "outputs": [],
   "source": [
    "min_max=MinMaxScaler()"
   ]
  },
  {
   "cell_type": "code",
   "execution_count": 63,
   "id": "5209dea9-433d-47ae-a46e-7d14ff468e66",
   "metadata": {},
   "outputs": [
    {
     "data": {
      "text/plain": [
       "array([[0.04359673, 0.04026846, 0.06475904],\n",
       "       [0.02152589, 0.02684564, 0.        ],\n",
       "       [0.0373297 , 0.04362416, 0.07108434],\n",
       "       ...,\n",
       "       [0.11280654, 0.10067114, 0.        ],\n",
       "       [0.03051771, 0.03355705, 0.        ],\n",
       "       [0.10490463, 0.09395973, 0.10120482]])"
      ]
     },
     "execution_count": 63,
     "metadata": {},
     "output_type": "execute_result"
    }
   ],
   "source": [
    "min_max.fit_transform(df[['distance', 'fare', 'tip']])"
   ]
  },
  {
   "cell_type": "code",
   "execution_count": 65,
   "id": "ce7aaaaf-fff2-45c3-a365-e99597fa44e1",
   "metadata": {},
   "outputs": [
    {
     "name": "stderr",
     "output_type": "stream",
     "text": [
      "/opt/conda/lib/python3.10/site-packages/sklearn/base.py:409: UserWarning: X does not have valid feature names, but MinMaxScaler was fitted with feature names\n",
      "  warnings.warn(\n"
     ]
    },
    {
     "data": {
      "text/plain": [
       "array([[0.04359673, 0.04026846, 0.06475904]])"
      ]
     },
     "execution_count": 65,
     "metadata": {},
     "output_type": "execute_result"
    }
   ],
   "source": [
    "# Putting new data\n",
    "min_max.transform([[1.6, 7.0, 2.15]])"
   ]
  },
  {
   "cell_type": "markdown",
   "id": "6aebbd6f-791d-40d9-8c85-4acc5df346dc",
   "metadata": {},
   "source": [
    "## 3. Unit Vector"
   ]
  },
  {
   "cell_type": "code",
   "execution_count": 66,
   "id": "6c172bc8-19de-4113-ae3b-6ef78bd109ab",
   "metadata": {},
   "outputs": [],
   "source": [
    "from sklearn.preprocessing import normalize"
   ]
  },
  {
   "cell_type": "code",
   "execution_count": 68,
   "id": "df1e9904-2e35-4dd8-a083-0229ad203c13",
   "metadata": {},
   "outputs": [
    {
     "data": {
      "text/html": [
       "<div>\n",
       "<style scoped>\n",
       "    .dataframe tbody tr th:only-of-type {\n",
       "        vertical-align: middle;\n",
       "    }\n",
       "\n",
       "    .dataframe tbody tr th {\n",
       "        vertical-align: top;\n",
       "    }\n",
       "\n",
       "    .dataframe thead th {\n",
       "        text-align: right;\n",
       "    }\n",
       "</style>\n",
       "<table border=\"1\" class=\"dataframe\">\n",
       "  <thead>\n",
       "    <tr style=\"text-align: right;\">\n",
       "      <th></th>\n",
       "      <th>0</th>\n",
       "      <th>1</th>\n",
       "      <th>2</th>\n",
       "    </tr>\n",
       "  </thead>\n",
       "  <tbody>\n",
       "    <tr>\n",
       "      <th>0</th>\n",
       "      <td>0.213461</td>\n",
       "      <td>0.933894</td>\n",
       "      <td>0.286839</td>\n",
       "    </tr>\n",
       "    <tr>\n",
       "      <th>1</th>\n",
       "      <td>0.156064</td>\n",
       "      <td>0.987747</td>\n",
       "      <td>0.000000</td>\n",
       "    </tr>\n",
       "    <tr>\n",
       "      <th>2</th>\n",
       "      <td>0.171657</td>\n",
       "      <td>0.939731</td>\n",
       "      <td>0.295702</td>\n",
       "    </tr>\n",
       "    <tr>\n",
       "      <th>3</th>\n",
       "      <td>0.267899</td>\n",
       "      <td>0.939386</td>\n",
       "      <td>0.213971</td>\n",
       "    </tr>\n",
       "    <tr>\n",
       "      <th>4</th>\n",
       "      <td>0.231742</td>\n",
       "      <td>0.965592</td>\n",
       "      <td>0.118017</td>\n",
       "    </tr>\n",
       "    <tr>\n",
       "      <th>...</th>\n",
       "      <td>...</td>\n",
       "      <td>...</td>\n",
       "      <td>...</td>\n",
       "    </tr>\n",
       "    <tr>\n",
       "      <th>6428</th>\n",
       "      <td>0.160133</td>\n",
       "      <td>0.960800</td>\n",
       "      <td>0.226322</td>\n",
       "    </tr>\n",
       "    <tr>\n",
       "      <th>6429</th>\n",
       "      <td>0.307453</td>\n",
       "      <td>0.951563</td>\n",
       "      <td>0.000000</td>\n",
       "    </tr>\n",
       "    <tr>\n",
       "      <th>6430</th>\n",
       "      <td>0.250500</td>\n",
       "      <td>0.968117</td>\n",
       "      <td>0.000000</td>\n",
       "    </tr>\n",
       "    <tr>\n",
       "      <th>6431</th>\n",
       "      <td>0.183497</td>\n",
       "      <td>0.983020</td>\n",
       "      <td>0.000000</td>\n",
       "    </tr>\n",
       "    <tr>\n",
       "      <th>6432</th>\n",
       "      <td>0.242956</td>\n",
       "      <td>0.946580</td>\n",
       "      <td>0.212034</td>\n",
       "    </tr>\n",
       "  </tbody>\n",
       "</table>\n",
       "<p>6433 rows × 3 columns</p>\n",
       "</div>"
      ],
      "text/plain": [
       "             0         1         2\n",
       "0     0.213461  0.933894  0.286839\n",
       "1     0.156064  0.987747  0.000000\n",
       "2     0.171657  0.939731  0.295702\n",
       "3     0.267899  0.939386  0.213971\n",
       "4     0.231742  0.965592  0.118017\n",
       "...        ...       ...       ...\n",
       "6428  0.160133  0.960800  0.226322\n",
       "6429  0.307453  0.951563  0.000000\n",
       "6430  0.250500  0.968117  0.000000\n",
       "6431  0.183497  0.983020  0.000000\n",
       "6432  0.242956  0.946580  0.212034\n",
       "\n",
       "[6433 rows x 3 columns]"
      ]
     },
     "execution_count": 68,
     "metadata": {},
     "output_type": "execute_result"
    }
   ],
   "source": [
    "pd.DataFrame(normalize(df[['distance', 'fare', 'tip']]))"
   ]
  },
  {
   "cell_type": "markdown",
   "id": "717c92fa-d6df-4116-ae7b-47e87a2c8543",
   "metadata": {},
   "source": [
    "## Feature Engineering (Data Encoding) (196)"
   ]
  },
  {
   "cell_type": "markdown",
   "id": "a82be162-24e2-4aed-a2c2-54e001f3f6e1",
   "metadata": {},
   "source": [
    "1. Nominal/OHE Encoding- One Hot Encoding\n",
    "2. Label and Ordinal Encoding\n",
    "3. Target Guided Original Encoding\n",
    "\n",
    "## 1. Nominal/OHE Encoding\n",
    "\n",
    "One hot encoding, also known as nominal encoding, is a technique used to represent categorical data as numerical data, which is more suitable for ML algorithms. In this technique, each category is represented as a binary vector where each bit corresponds to a unique category. For example, if we have a categorical variable \"color\" with three possible values (red, green, blue), we can represent it in one hot encoding as follows:\n",
    "\n",
    "* 1. Red: [1,0,0]\n",
    "* 2. Green: [0,1,0]\n",
    "* 3. Blue: [0,0,1]"
   ]
  },
  {
   "cell_type": "markdown",
   "id": "eb01debf-033c-423a-878e-93bdc8ca9923",
   "metadata": {},
   "source": [
    "* Disadvantage:\n",
    "\n",
    "1. If we have many categorical features, we should not use OHE, as it results on creating too many new features.\n",
    "2. Sparce Matrix: Lets say we have 10 categorical features and we convert them to OHE. What will happen is, it will create a lot of 1's and 0's. This is called as sparce matrix. And whenever it leads to sparce matrix, it usally leads to overfitting. This is why we should not go for OHE if we have many categorical features."
   ]
  },
  {
   "cell_type": "code",
   "execution_count": 76,
   "id": "0edf70ff-fb79-4858-ab6b-ada8b2f91f88",
   "metadata": {},
   "outputs": [],
   "source": [
    "import pandas as pd\n",
    "from sklearn.preprocessing import OneHotEncoder"
   ]
  },
  {
   "cell_type": "code",
   "execution_count": 77,
   "id": "e4b42010-a9ed-40af-9c5f-6d5a700e155c",
   "metadata": {},
   "outputs": [],
   "source": [
    "## Create a simple dataframe\n",
    "df = pd.DataFrame({\n",
    "    'color': ['red', 'blue', 'green', 'green', 'red', 'blue']\n",
    "})"
   ]
  },
  {
   "cell_type": "code",
   "execution_count": 78,
   "id": "b67b6bd8-4051-43e9-bf80-999ce73ccb76",
   "metadata": {},
   "outputs": [
    {
     "data": {
      "text/html": [
       "<div>\n",
       "<style scoped>\n",
       "    .dataframe tbody tr th:only-of-type {\n",
       "        vertical-align: middle;\n",
       "    }\n",
       "\n",
       "    .dataframe tbody tr th {\n",
       "        vertical-align: top;\n",
       "    }\n",
       "\n",
       "    .dataframe thead th {\n",
       "        text-align: right;\n",
       "    }\n",
       "</style>\n",
       "<table border=\"1\" class=\"dataframe\">\n",
       "  <thead>\n",
       "    <tr style=\"text-align: right;\">\n",
       "      <th></th>\n",
       "      <th>color</th>\n",
       "    </tr>\n",
       "  </thead>\n",
       "  <tbody>\n",
       "    <tr>\n",
       "      <th>0</th>\n",
       "      <td>red</td>\n",
       "    </tr>\n",
       "    <tr>\n",
       "      <th>1</th>\n",
       "      <td>blue</td>\n",
       "    </tr>\n",
       "    <tr>\n",
       "      <th>2</th>\n",
       "      <td>green</td>\n",
       "    </tr>\n",
       "    <tr>\n",
       "      <th>3</th>\n",
       "      <td>green</td>\n",
       "    </tr>\n",
       "    <tr>\n",
       "      <th>4</th>\n",
       "      <td>red</td>\n",
       "    </tr>\n",
       "  </tbody>\n",
       "</table>\n",
       "</div>"
      ],
      "text/plain": [
       "   color\n",
       "0    red\n",
       "1   blue\n",
       "2  green\n",
       "3  green\n",
       "4    red"
      ]
     },
     "execution_count": 78,
     "metadata": {},
     "output_type": "execute_result"
    }
   ],
   "source": [
    "df.head()"
   ]
  },
  {
   "cell_type": "code",
   "execution_count": 79,
   "id": "f342f73d-d855-4018-825e-fe4e02a999e6",
   "metadata": {},
   "outputs": [],
   "source": [
    "## We create an instance of OHE\n",
    "encoder=OneHotEncoder()"
   ]
  },
  {
   "cell_type": "code",
   "execution_count": 81,
   "id": "ee398112-df32-4749-b363-26e77a59c8af",
   "metadata": {},
   "outputs": [],
   "source": [
    "## perform fit and transform\n",
    "encoded=encoder.fit_transform(df[['color']]).toarray()"
   ]
  },
  {
   "cell_type": "code",
   "execution_count": 84,
   "id": "ffddaf33-167f-46a4-aeb3-0d4db44c2b9c",
   "metadata": {},
   "outputs": [],
   "source": [
    "import pandas as pd\n",
    "encoder_df=pd.DataFrame(encoded,columns=encoder.get_feature_names_out())  # get_feature_names_out() gets out the feature name"
   ]
  },
  {
   "cell_type": "code",
   "execution_count": 85,
   "id": "0ff56172-89de-4c76-8c9c-e54d27c2cc7c",
   "metadata": {},
   "outputs": [
    {
     "data": {
      "text/html": [
       "<div>\n",
       "<style scoped>\n",
       "    .dataframe tbody tr th:only-of-type {\n",
       "        vertical-align: middle;\n",
       "    }\n",
       "\n",
       "    .dataframe tbody tr th {\n",
       "        vertical-align: top;\n",
       "    }\n",
       "\n",
       "    .dataframe thead th {\n",
       "        text-align: right;\n",
       "    }\n",
       "</style>\n",
       "<table border=\"1\" class=\"dataframe\">\n",
       "  <thead>\n",
       "    <tr style=\"text-align: right;\">\n",
       "      <th></th>\n",
       "      <th>color_blue</th>\n",
       "      <th>color_green</th>\n",
       "      <th>color_red</th>\n",
       "    </tr>\n",
       "  </thead>\n",
       "  <tbody>\n",
       "    <tr>\n",
       "      <th>0</th>\n",
       "      <td>0.0</td>\n",
       "      <td>0.0</td>\n",
       "      <td>1.0</td>\n",
       "    </tr>\n",
       "    <tr>\n",
       "      <th>1</th>\n",
       "      <td>1.0</td>\n",
       "      <td>0.0</td>\n",
       "      <td>0.0</td>\n",
       "    </tr>\n",
       "    <tr>\n",
       "      <th>2</th>\n",
       "      <td>0.0</td>\n",
       "      <td>1.0</td>\n",
       "      <td>0.0</td>\n",
       "    </tr>\n",
       "    <tr>\n",
       "      <th>3</th>\n",
       "      <td>0.0</td>\n",
       "      <td>1.0</td>\n",
       "      <td>0.0</td>\n",
       "    </tr>\n",
       "    <tr>\n",
       "      <th>4</th>\n",
       "      <td>0.0</td>\n",
       "      <td>0.0</td>\n",
       "      <td>1.0</td>\n",
       "    </tr>\n",
       "    <tr>\n",
       "      <th>5</th>\n",
       "      <td>1.0</td>\n",
       "      <td>0.0</td>\n",
       "      <td>0.0</td>\n",
       "    </tr>\n",
       "  </tbody>\n",
       "</table>\n",
       "</div>"
      ],
      "text/plain": [
       "   color_blue  color_green  color_red\n",
       "0         0.0          0.0        1.0\n",
       "1         1.0          0.0        0.0\n",
       "2         0.0          1.0        0.0\n",
       "3         0.0          1.0        0.0\n",
       "4         0.0          0.0        1.0\n",
       "5         1.0          0.0        0.0"
      ]
     },
     "execution_count": 85,
     "metadata": {},
     "output_type": "execute_result"
    }
   ],
   "source": [
    "encoder_df"
   ]
  },
  {
   "cell_type": "code",
   "execution_count": 86,
   "id": "645c0874-3b39-4d2a-8ec3-0eab46ab6206",
   "metadata": {},
   "outputs": [
    {
     "name": "stderr",
     "output_type": "stream",
     "text": [
      "/opt/conda/lib/python3.10/site-packages/sklearn/base.py:409: UserWarning: X does not have valid feature names, but OneHotEncoder was fitted with feature names\n",
      "  warnings.warn(\n"
     ]
    },
    {
     "data": {
      "text/plain": [
       "array([[1., 0., 0.]])"
      ]
     },
     "execution_count": 86,
     "metadata": {},
     "output_type": "execute_result"
    }
   ],
   "source": [
    "## Whenver we get new data\n",
    "encoder.transform([['blue']]).toarray()"
   ]
  },
  {
   "cell_type": "code",
   "execution_count": 87,
   "id": "c26642c3-e0e0-42e5-bc0c-e8ba527cd6b9",
   "metadata": {},
   "outputs": [
    {
     "data": {
      "text/html": [
       "<div>\n",
       "<style scoped>\n",
       "    .dataframe tbody tr th:only-of-type {\n",
       "        vertical-align: middle;\n",
       "    }\n",
       "\n",
       "    .dataframe tbody tr th {\n",
       "        vertical-align: top;\n",
       "    }\n",
       "\n",
       "    .dataframe thead th {\n",
       "        text-align: right;\n",
       "    }\n",
       "</style>\n",
       "<table border=\"1\" class=\"dataframe\">\n",
       "  <thead>\n",
       "    <tr style=\"text-align: right;\">\n",
       "      <th></th>\n",
       "      <th>color</th>\n",
       "      <th>color_blue</th>\n",
       "      <th>color_green</th>\n",
       "      <th>color_red</th>\n",
       "    </tr>\n",
       "  </thead>\n",
       "  <tbody>\n",
       "    <tr>\n",
       "      <th>0</th>\n",
       "      <td>red</td>\n",
       "      <td>0.0</td>\n",
       "      <td>0.0</td>\n",
       "      <td>1.0</td>\n",
       "    </tr>\n",
       "    <tr>\n",
       "      <th>1</th>\n",
       "      <td>blue</td>\n",
       "      <td>1.0</td>\n",
       "      <td>0.0</td>\n",
       "      <td>0.0</td>\n",
       "    </tr>\n",
       "    <tr>\n",
       "      <th>2</th>\n",
       "      <td>green</td>\n",
       "      <td>0.0</td>\n",
       "      <td>1.0</td>\n",
       "      <td>0.0</td>\n",
       "    </tr>\n",
       "    <tr>\n",
       "      <th>3</th>\n",
       "      <td>green</td>\n",
       "      <td>0.0</td>\n",
       "      <td>1.0</td>\n",
       "      <td>0.0</td>\n",
       "    </tr>\n",
       "    <tr>\n",
       "      <th>4</th>\n",
       "      <td>red</td>\n",
       "      <td>0.0</td>\n",
       "      <td>0.0</td>\n",
       "      <td>1.0</td>\n",
       "    </tr>\n",
       "    <tr>\n",
       "      <th>5</th>\n",
       "      <td>blue</td>\n",
       "      <td>1.0</td>\n",
       "      <td>0.0</td>\n",
       "      <td>0.0</td>\n",
       "    </tr>\n",
       "  </tbody>\n",
       "</table>\n",
       "</div>"
      ],
      "text/plain": [
       "   color  color_blue  color_green  color_red\n",
       "0    red         0.0          0.0        1.0\n",
       "1   blue         1.0          0.0        0.0\n",
       "2  green         0.0          1.0        0.0\n",
       "3  green         0.0          1.0        0.0\n",
       "4    red         0.0          0.0        1.0\n",
       "5   blue         1.0          0.0        0.0"
      ]
     },
     "execution_count": 87,
     "metadata": {},
     "output_type": "execute_result"
    }
   ],
   "source": [
    "pd.concat([df,encoder_df],axis=1)"
   ]
  },
  {
   "cell_type": "markdown",
   "id": "5cb53bf1-0a97-4571-ac74-3ca2503058b8",
   "metadata": {},
   "source": [
    "## 2. Label & Ordinal Encoding\n",
    "\n",
    "Label encoding and ordinal encoding are two techniques used to encode categorical data as numerical data.\n",
    "\n",
    "Label encoding involves assigning a unique numerical label to each category in the variable. The labels are usually assigned in alphabetical order or based on the frequency of the categories. For example, if we have categorical variable \"color\" with three possible values (red, green, blue), we can represent it using label encoding as follows:\n",
    "\n",
    "1. Red: 1\n",
    "2. Green: 2\n",
    "3. Blue: 3 "
   ]
  },
  {
   "cell_type": "markdown",
   "id": "605f6708-7bcc-45ce-8a12-825db8b9f6f9",
   "metadata": {},
   "source": [
    "###Label Encoding"
   ]
  },
  {
   "cell_type": "code",
   "execution_count": 100,
   "id": "2bf6a986-a6b5-48d5-8b89-d09ee3d2c185",
   "metadata": {},
   "outputs": [
    {
     "data": {
      "text/html": [
       "<div>\n",
       "<style scoped>\n",
       "    .dataframe tbody tr th:only-of-type {\n",
       "        vertical-align: middle;\n",
       "    }\n",
       "\n",
       "    .dataframe tbody tr th {\n",
       "        vertical-align: top;\n",
       "    }\n",
       "\n",
       "    .dataframe thead th {\n",
       "        text-align: right;\n",
       "    }\n",
       "</style>\n",
       "<table border=\"1\" class=\"dataframe\">\n",
       "  <thead>\n",
       "    <tr style=\"text-align: right;\">\n",
       "      <th></th>\n",
       "      <th>color</th>\n",
       "    </tr>\n",
       "  </thead>\n",
       "  <tbody>\n",
       "    <tr>\n",
       "      <th>0</th>\n",
       "      <td>red</td>\n",
       "    </tr>\n",
       "    <tr>\n",
       "      <th>1</th>\n",
       "      <td>blue</td>\n",
       "    </tr>\n",
       "    <tr>\n",
       "      <th>2</th>\n",
       "      <td>green</td>\n",
       "    </tr>\n",
       "    <tr>\n",
       "      <th>3</th>\n",
       "      <td>green</td>\n",
       "    </tr>\n",
       "    <tr>\n",
       "      <th>4</th>\n",
       "      <td>red</td>\n",
       "    </tr>\n",
       "  </tbody>\n",
       "</table>\n",
       "</div>"
      ],
      "text/plain": [
       "   color\n",
       "0    red\n",
       "1   blue\n",
       "2  green\n",
       "3  green\n",
       "4    red"
      ]
     },
     "execution_count": 100,
     "metadata": {},
     "output_type": "execute_result"
    }
   ],
   "source": [
    "df.head()"
   ]
  },
  {
   "cell_type": "code",
   "execution_count": 101,
   "id": "78dfab99-4c62-4af5-a588-d3f69da4c79a",
   "metadata": {},
   "outputs": [],
   "source": [
    "from sklearn.preprocessing import LabelEncoder\n",
    "lbl_encoder=LabelEncoder()"
   ]
  },
  {
   "cell_type": "code",
   "execution_count": 102,
   "id": "14333836-0308-4375-9860-4bfd8ef606f5",
   "metadata": {},
   "outputs": [
    {
     "name": "stderr",
     "output_type": "stream",
     "text": [
      "/opt/conda/lib/python3.10/site-packages/sklearn/preprocessing/_label.py:116: DataConversionWarning: A column-vector y was passed when a 1d array was expected. Please change the shape of y to (n_samples, ), for example using ravel().\n",
      "  y = column_or_1d(y, warn=True)\n"
     ]
    },
    {
     "data": {
      "text/plain": [
       "array([2, 0, 1, 1, 2, 0])"
      ]
     },
     "execution_count": 102,
     "metadata": {},
     "output_type": "execute_result"
    }
   ],
   "source": [
    "lbl_encoder.fit_transform(df[['color']])"
   ]
  },
  {
   "cell_type": "code",
   "execution_count": 104,
   "id": "5125b3e6-932f-43d5-9e4b-8b2856eb19f2",
   "metadata": {},
   "outputs": [
    {
     "name": "stderr",
     "output_type": "stream",
     "text": [
      "/opt/conda/lib/python3.10/site-packages/sklearn/preprocessing/_label.py:134: DataConversionWarning: A column-vector y was passed when a 1d array was expected. Please change the shape of y to (n_samples, ), for example using ravel().\n",
      "  y = column_or_1d(y, dtype=self.classes_.dtype, warn=True)\n"
     ]
    },
    {
     "data": {
      "text/plain": [
       "array([2])"
      ]
     },
     "execution_count": 104,
     "metadata": {},
     "output_type": "execute_result"
    }
   ],
   "source": [
    "lbl_encoder.transform([['red']])"
   ]
  },
  {
   "cell_type": "code",
   "execution_count": 105,
   "id": "f231d808-eebe-4014-8620-e13dc6bb80d6",
   "metadata": {},
   "outputs": [
    {
     "data": {
      "text/plain": [
       "array([0])"
      ]
     },
     "execution_count": 105,
     "metadata": {},
     "output_type": "execute_result"
    }
   ],
   "source": [
    "lbl_encoder.transform([['blue']])"
   ]
  },
  {
   "cell_type": "code",
   "execution_count": 106,
   "id": "19cabe0e-1e7a-49ae-9d28-0418e87b48b7",
   "metadata": {},
   "outputs": [
    {
     "data": {
      "text/plain": [
       "array([1])"
      ]
     },
     "execution_count": 106,
     "metadata": {},
     "output_type": "execute_result"
    }
   ],
   "source": [
    "lbl_encoder.transform([['green']])"
   ]
  },
  {
   "cell_type": "markdown",
   "id": "4243a296-f73b-42ef-9795-30670d73283a",
   "metadata": {},
   "source": [
    "As we can see, 'red','green' and 'blue' are assigned value based on their alphabetic order. Since b comes first in alphabetic sequence, blue got the value of 0. g comes after b, so green got the value of 1 and red got 2. Machine may start thinking that, since red=2 got the higher rank, it might have the higher value compared to green or blue. To avoid this kind of scenario, we use the below method."
   ]
  },
  {
   "cell_type": "markdown",
   "id": "3c1ba45b-9b1d-4560-b1e2-ca47a324d1f4",
   "metadata": {},
   "source": [
    "## Ordinal Encoding\n",
    "\n",
    "It is used to encode categorical data that have an intrinsic order or ranking. In this technique, each category is assigned a numerical value based on its position in the order. For example, if we have a categorical variable \"education level\" with four possible values (high school, college, graduate, post-graduate), we can represent it using ordinal encoding as follows:\n",
    "\n",
    "1. High school: 1\n",
    "2. College: 2\n",
    "3. Graduate: 3\n",
    "4. Post-graduate: 4"
   ]
  },
  {
   "cell_type": "code",
   "execution_count": 112,
   "id": "497df4e1-1597-454c-af90-827dbeb948d3",
   "metadata": {},
   "outputs": [],
   "source": [
    "## Ordinal Encoding\n",
    "import pandas as pd\n",
    "from sklearn.preprocessing import OrdinalEncoder"
   ]
  },
  {
   "cell_type": "code",
   "execution_count": 113,
   "id": "451806e7-4fa8-4bb8-9469-7249a467b228",
   "metadata": {},
   "outputs": [],
   "source": [
    "df = pd.DataFrame({\n",
    "    'size': ['small', 'medium', 'large', 'medium', 'small', 'large']\n",
    "})"
   ]
  },
  {
   "cell_type": "code",
   "execution_count": 114,
   "id": "2e96ad2f-d014-4dfe-9676-4e6a69a91e2b",
   "metadata": {},
   "outputs": [],
   "source": [
    "## create an instance of ordinal encoder and then fit_transform\n",
    "encoder=OrdinalEncoder(categories=[['small', 'medium', 'large']])"
   ]
  },
  {
   "cell_type": "code",
   "execution_count": 115,
   "id": "81c754dc-6387-46db-bc7e-d476781e961f",
   "metadata": {},
   "outputs": [
    {
     "data": {
      "text/plain": [
       "array([[0.],\n",
       "       [1.],\n",
       "       [2.],\n",
       "       [1.],\n",
       "       [0.],\n",
       "       [2.]])"
      ]
     },
     "execution_count": 115,
     "metadata": {},
     "output_type": "execute_result"
    }
   ],
   "source": [
    "encoder.fit_transform(df[['size']])"
   ]
  },
  {
   "cell_type": "code",
   "execution_count": 116,
   "id": "037963fd-51a7-4fa5-acee-be0e2a63e260",
   "metadata": {},
   "outputs": [
    {
     "name": "stderr",
     "output_type": "stream",
     "text": [
      "/opt/conda/lib/python3.10/site-packages/sklearn/base.py:409: UserWarning: X does not have valid feature names, but OrdinalEncoder was fitted with feature names\n",
      "  warnings.warn(\n"
     ]
    },
    {
     "data": {
      "text/plain": [
       "array([[0.]])"
      ]
     },
     "execution_count": 116,
     "metadata": {},
     "output_type": "execute_result"
    }
   ],
   "source": [
    "encoder.transform([['small']])"
   ]
  },
  {
   "cell_type": "markdown",
   "id": "b444f4f5-9f93-4afb-b767-23efeb37ab36",
   "metadata": {},
   "source": [
    "## 3. Target Guided Ordinal Encoding\n",
    "It is a technique used to encode categorical variables based on their relationship with the target variable. This encoding technique is useful when we have a categorical variable with a large number of unique categories, and we want to use this variable as a feature in our machine learning model.\n",
    "\n",
    "In Target Guided Ordinal Encoding, we replace each category in the categorical variable with a numerical value based on the mean or median of the target variable for that category. This creates a monotonic relationship between the categorical variable and the target variable, which can improve the predictive power of our model."
   ]
  },
  {
   "cell_type": "code",
   "execution_count": 117,
   "id": "1665c90e-bb2a-4195-8b67-f920f711896e",
   "metadata": {},
   "outputs": [],
   "source": [
    "import pandas as pd\n",
    "\n",
    "# create a sample dataframe with a categorical variable and a target variable\n",
    "df = pd.DataFrame({\n",
    "    'city': ['New York', 'London', 'Paris', 'Tokyo', 'New York', 'Paris'],\n",
    "    'price': [200, 150, 300, 250, 180, 320]\n",
    "})"
   ]
  },
  {
   "cell_type": "code",
   "execution_count": 118,
   "id": "b5251fef-893e-4f81-9e73-0114777935ba",
   "metadata": {},
   "outputs": [
    {
     "data": {
      "text/html": [
       "<div>\n",
       "<style scoped>\n",
       "    .dataframe tbody tr th:only-of-type {\n",
       "        vertical-align: middle;\n",
       "    }\n",
       "\n",
       "    .dataframe tbody tr th {\n",
       "        vertical-align: top;\n",
       "    }\n",
       "\n",
       "    .dataframe thead th {\n",
       "        text-align: right;\n",
       "    }\n",
       "</style>\n",
       "<table border=\"1\" class=\"dataframe\">\n",
       "  <thead>\n",
       "    <tr style=\"text-align: right;\">\n",
       "      <th></th>\n",
       "      <th>city</th>\n",
       "      <th>price</th>\n",
       "    </tr>\n",
       "  </thead>\n",
       "  <tbody>\n",
       "    <tr>\n",
       "      <th>0</th>\n",
       "      <td>New York</td>\n",
       "      <td>200</td>\n",
       "    </tr>\n",
       "    <tr>\n",
       "      <th>1</th>\n",
       "      <td>London</td>\n",
       "      <td>150</td>\n",
       "    </tr>\n",
       "    <tr>\n",
       "      <th>2</th>\n",
       "      <td>Paris</td>\n",
       "      <td>300</td>\n",
       "    </tr>\n",
       "    <tr>\n",
       "      <th>3</th>\n",
       "      <td>Tokyo</td>\n",
       "      <td>250</td>\n",
       "    </tr>\n",
       "    <tr>\n",
       "      <th>4</th>\n",
       "      <td>New York</td>\n",
       "      <td>180</td>\n",
       "    </tr>\n",
       "    <tr>\n",
       "      <th>5</th>\n",
       "      <td>Paris</td>\n",
       "      <td>320</td>\n",
       "    </tr>\n",
       "  </tbody>\n",
       "</table>\n",
       "</div>"
      ],
      "text/plain": [
       "       city  price\n",
       "0  New York    200\n",
       "1    London    150\n",
       "2     Paris    300\n",
       "3     Tokyo    250\n",
       "4  New York    180\n",
       "5     Paris    320"
      ]
     },
     "execution_count": 118,
     "metadata": {},
     "output_type": "execute_result"
    }
   ],
   "source": [
    "df"
   ]
  },
  {
   "cell_type": "code",
   "execution_count": 120,
   "id": "a4fc0434-232d-4bfc-a1d2-4ea053a3c6f3",
   "metadata": {},
   "outputs": [],
   "source": [
    "mean_price=df.groupby('city')['price'].mean().to_dict()"
   ]
  },
  {
   "cell_type": "code",
   "execution_count": 121,
   "id": "a9b9ec68-92f9-46ff-8455-8353df8f40cb",
   "metadata": {},
   "outputs": [
    {
     "data": {
      "text/plain": [
       "{'London': 150.0, 'New York': 190.0, 'Paris': 310.0, 'Tokyo': 250.0}"
      ]
     },
     "execution_count": 121,
     "metadata": {},
     "output_type": "execute_result"
    }
   ],
   "source": [
    "mean_price"
   ]
  },
  {
   "cell_type": "code",
   "execution_count": 122,
   "id": "3feb8389-1d4d-46b6-9b13-6c279bfc1de8",
   "metadata": {},
   "outputs": [
    {
     "data": {
      "text/html": [
       "<div>\n",
       "<style scoped>\n",
       "    .dataframe tbody tr th:only-of-type {\n",
       "        vertical-align: middle;\n",
       "    }\n",
       "\n",
       "    .dataframe tbody tr th {\n",
       "        vertical-align: top;\n",
       "    }\n",
       "\n",
       "    .dataframe thead th {\n",
       "        text-align: right;\n",
       "    }\n",
       "</style>\n",
       "<table border=\"1\" class=\"dataframe\">\n",
       "  <thead>\n",
       "    <tr style=\"text-align: right;\">\n",
       "      <th></th>\n",
       "      <th>city</th>\n",
       "      <th>price</th>\n",
       "      <th>city_encoded</th>\n",
       "    </tr>\n",
       "  </thead>\n",
       "  <tbody>\n",
       "    <tr>\n",
       "      <th>0</th>\n",
       "      <td>New York</td>\n",
       "      <td>200</td>\n",
       "      <td>190.0</td>\n",
       "    </tr>\n",
       "    <tr>\n",
       "      <th>1</th>\n",
       "      <td>London</td>\n",
       "      <td>150</td>\n",
       "      <td>150.0</td>\n",
       "    </tr>\n",
       "    <tr>\n",
       "      <th>2</th>\n",
       "      <td>Paris</td>\n",
       "      <td>300</td>\n",
       "      <td>310.0</td>\n",
       "    </tr>\n",
       "    <tr>\n",
       "      <th>3</th>\n",
       "      <td>Tokyo</td>\n",
       "      <td>250</td>\n",
       "      <td>250.0</td>\n",
       "    </tr>\n",
       "    <tr>\n",
       "      <th>4</th>\n",
       "      <td>New York</td>\n",
       "      <td>180</td>\n",
       "      <td>190.0</td>\n",
       "    </tr>\n",
       "    <tr>\n",
       "      <th>5</th>\n",
       "      <td>Paris</td>\n",
       "      <td>320</td>\n",
       "      <td>310.0</td>\n",
       "    </tr>\n",
       "  </tbody>\n",
       "</table>\n",
       "</div>"
      ],
      "text/plain": [
       "       city  price  city_encoded\n",
       "0  New York    200         190.0\n",
       "1    London    150         150.0\n",
       "2     Paris    300         310.0\n",
       "3     Tokyo    250         250.0\n",
       "4  New York    180         190.0\n",
       "5     Paris    320         310.0"
      ]
     },
     "execution_count": 122,
     "metadata": {},
     "output_type": "execute_result"
    }
   ],
   "source": [
    "df['city_encoded']=df['city'].map(mean_price)\n",
    "df"
   ]
  },
  {
   "cell_type": "code",
   "execution_count": 123,
   "id": "fb36f6bc-df2a-4b60-aadf-cac04c14c3bd",
   "metadata": {},
   "outputs": [
    {
     "data": {
      "text/html": [
       "<div>\n",
       "<style scoped>\n",
       "    .dataframe tbody tr th:only-of-type {\n",
       "        vertical-align: middle;\n",
       "    }\n",
       "\n",
       "    .dataframe tbody tr th {\n",
       "        vertical-align: top;\n",
       "    }\n",
       "\n",
       "    .dataframe thead th {\n",
       "        text-align: right;\n",
       "    }\n",
       "</style>\n",
       "<table border=\"1\" class=\"dataframe\">\n",
       "  <thead>\n",
       "    <tr style=\"text-align: right;\">\n",
       "      <th></th>\n",
       "      <th>price</th>\n",
       "      <th>city_encoded</th>\n",
       "    </tr>\n",
       "  </thead>\n",
       "  <tbody>\n",
       "    <tr>\n",
       "      <th>0</th>\n",
       "      <td>200</td>\n",
       "      <td>190.0</td>\n",
       "    </tr>\n",
       "    <tr>\n",
       "      <th>1</th>\n",
       "      <td>150</td>\n",
       "      <td>150.0</td>\n",
       "    </tr>\n",
       "    <tr>\n",
       "      <th>2</th>\n",
       "      <td>300</td>\n",
       "      <td>310.0</td>\n",
       "    </tr>\n",
       "    <tr>\n",
       "      <th>3</th>\n",
       "      <td>250</td>\n",
       "      <td>250.0</td>\n",
       "    </tr>\n",
       "    <tr>\n",
       "      <th>4</th>\n",
       "      <td>180</td>\n",
       "      <td>190.0</td>\n",
       "    </tr>\n",
       "    <tr>\n",
       "      <th>5</th>\n",
       "      <td>320</td>\n",
       "      <td>310.0</td>\n",
       "    </tr>\n",
       "  </tbody>\n",
       "</table>\n",
       "</div>"
      ],
      "text/plain": [
       "   price  city_encoded\n",
       "0    200         190.0\n",
       "1    150         150.0\n",
       "2    300         310.0\n",
       "3    250         250.0\n",
       "4    180         190.0\n",
       "5    320         310.0"
      ]
     },
     "execution_count": 123,
     "metadata": {},
     "output_type": "execute_result"
    }
   ],
   "source": [
    "df[['price', 'city_encoded']]"
   ]
  },
  {
   "cell_type": "markdown",
   "id": "0dad494b-11b0-4740-b572-2712a2e815b2",
   "metadata": {},
   "source": [
    "## Feature Engineering (Covariance And Correlation) (199)"
   ]
  },
  {
   "cell_type": "markdown",
   "id": "0bdd17b5-4828-402c-9fa5-de77eb6261ed",
   "metadata": {},
   "source": [
    "Lets say I have two variables with values x=2,4,6,8 and y = 3,5,7,9. Can we find out a relationship between x and y? Like, a relationship as in, if x is increasing, y is increasing, or, x is increasing then y is decreasing, or, when x is decreasing, y is increasing,or, when x is decreasing, y is also decreasing. x and y variables relation will have an impact on the output. This is what covariance and correlation is. \n",
    "\n",
    "# Interview Question: What is the difference between Variance and Covariance:\n",
    "Variance is nothing but, the covariance of x itself. We are dealing with the spread of the data here. When we are dealing with 2 variables relation, we are dealing with covariance of two difference variables. \n",
    "\n",
    "In short, we are checking the variance of x variable itself in term of the definition of variance. When we are checking the variance of two variables, it is covariance. \n",
    "\n",
    "* Scenario 1: When x and y both increases,or x and y both decreases, we consider this as positive (+ve) covariance.\n",
    "* Scenario 2: When x is increasing and y is decreasing, or, when x is decreasing and y is increasing, we consider this as negative (-ve) covariance.\n",
    "\n",
    "- Advantage: We get the relationship between x and y eihter +ve or -ve\n",
    "- Disadvantage: Covariance does not have specific limit value\n",
    "\n",
    "To avoid this disadvantage, we specificly use:\n",
    "\n",
    "- Pearson Correlation Coefficient: This sets the value between -1 to +1.\n",
    "\n",
    "Here, \n",
    "1. The more the value towards +1 the more the correlated it is. (x, y)  \n",
    "2. The more the value towards -1 the more -ve correlated it is (x,y)\n",
    "\n",
    "- Spearman Rank Correlation: We rank the x=2,4,6,8 and y = 3,5,7,9 value. Once we rank, we get a dataset based on rank and use it to calculate the correlation. "
   ]
  },
  {
   "cell_type": "code",
   "execution_count": 1,
   "id": "5f1dafbb-efa9-4c3f-bcf4-65d0b678f96f",
   "metadata": {},
   "outputs": [],
   "source": [
    "import seaborn as sns"
   ]
  },
  {
   "cell_type": "code",
   "execution_count": 4,
   "id": "d0ab7200-175d-445e-8efa-266b92c90e90",
   "metadata": {},
   "outputs": [
    {
     "data": {
      "text/html": [
       "<div>\n",
       "<style scoped>\n",
       "    .dataframe tbody tr th:only-of-type {\n",
       "        vertical-align: middle;\n",
       "    }\n",
       "\n",
       "    .dataframe tbody tr th {\n",
       "        vertical-align: top;\n",
       "    }\n",
       "\n",
       "    .dataframe thead th {\n",
       "        text-align: right;\n",
       "    }\n",
       "</style>\n",
       "<table border=\"1\" class=\"dataframe\">\n",
       "  <thead>\n",
       "    <tr style=\"text-align: right;\">\n",
       "      <th></th>\n",
       "      <th>Year</th>\n",
       "      <th>Country</th>\n",
       "      <th>Spending_USD</th>\n",
       "      <th>Life_Expectancy</th>\n",
       "    </tr>\n",
       "  </thead>\n",
       "  <tbody>\n",
       "    <tr>\n",
       "      <th>0</th>\n",
       "      <td>1970</td>\n",
       "      <td>Germany</td>\n",
       "      <td>252.311</td>\n",
       "      <td>70.6</td>\n",
       "    </tr>\n",
       "    <tr>\n",
       "      <th>1</th>\n",
       "      <td>1970</td>\n",
       "      <td>France</td>\n",
       "      <td>192.143</td>\n",
       "      <td>72.2</td>\n",
       "    </tr>\n",
       "    <tr>\n",
       "      <th>2</th>\n",
       "      <td>1970</td>\n",
       "      <td>Great Britain</td>\n",
       "      <td>123.993</td>\n",
       "      <td>71.9</td>\n",
       "    </tr>\n",
       "    <tr>\n",
       "      <th>3</th>\n",
       "      <td>1970</td>\n",
       "      <td>Japan</td>\n",
       "      <td>150.437</td>\n",
       "      <td>72.0</td>\n",
       "    </tr>\n",
       "    <tr>\n",
       "      <th>4</th>\n",
       "      <td>1970</td>\n",
       "      <td>USA</td>\n",
       "      <td>326.961</td>\n",
       "      <td>70.9</td>\n",
       "    </tr>\n",
       "  </tbody>\n",
       "</table>\n",
       "</div>"
      ],
      "text/plain": [
       "   Year        Country  Spending_USD  Life_Expectancy\n",
       "0  1970        Germany       252.311             70.6\n",
       "1  1970         France       192.143             72.2\n",
       "2  1970  Great Britain       123.993             71.9\n",
       "3  1970          Japan       150.437             72.0\n",
       "4  1970            USA       326.961             70.9"
      ]
     },
     "execution_count": 4,
     "metadata": {},
     "output_type": "execute_result"
    }
   ],
   "source": [
    "df=sns.load_dataset('healthexp')\n",
    "df.head()"
   ]
  },
  {
   "cell_type": "code",
   "execution_count": 5,
   "id": "b8cb2f10-9f59-4231-9ce2-70696836f9c3",
   "metadata": {},
   "outputs": [],
   "source": [
    "## Covariance\n",
    "import numpy as np"
   ]
  },
  {
   "cell_type": "code",
   "execution_count": 6,
   "id": "e5401001-4abe-4595-8b10-70f03371c92b",
   "metadata": {},
   "outputs": [
    {
     "name": "stderr",
     "output_type": "stream",
     "text": [
      "/tmp/ipykernel_77/1545644723.py:1: FutureWarning: The default value of numeric_only in DataFrame.cov is deprecated. In a future version, it will default to False. Select only valid columns or specify the value of numeric_only to silence this warning.\n",
      "  df.cov()\n"
     ]
    },
    {
     "data": {
      "text/html": [
       "<div>\n",
       "<style scoped>\n",
       "    .dataframe tbody tr th:only-of-type {\n",
       "        vertical-align: middle;\n",
       "    }\n",
       "\n",
       "    .dataframe tbody tr th {\n",
       "        vertical-align: top;\n",
       "    }\n",
       "\n",
       "    .dataframe thead th {\n",
       "        text-align: right;\n",
       "    }\n",
       "</style>\n",
       "<table border=\"1\" class=\"dataframe\">\n",
       "  <thead>\n",
       "    <tr style=\"text-align: right;\">\n",
       "      <th></th>\n",
       "      <th>Year</th>\n",
       "      <th>Spending_USD</th>\n",
       "      <th>Life_Expectancy</th>\n",
       "    </tr>\n",
       "  </thead>\n",
       "  <tbody>\n",
       "    <tr>\n",
       "      <th>Year</th>\n",
       "      <td>201.098848</td>\n",
       "      <td>2.571883e+04</td>\n",
       "      <td>41.915454</td>\n",
       "    </tr>\n",
       "    <tr>\n",
       "      <th>Spending_USD</th>\n",
       "      <td>25718.827373</td>\n",
       "      <td>4.817761e+06</td>\n",
       "      <td>4166.800912</td>\n",
       "    </tr>\n",
       "    <tr>\n",
       "      <th>Life_Expectancy</th>\n",
       "      <td>41.915454</td>\n",
       "      <td>4.166801e+03</td>\n",
       "      <td>10.733902</td>\n",
       "    </tr>\n",
       "  </tbody>\n",
       "</table>\n",
       "</div>"
      ],
      "text/plain": [
       "                         Year  Spending_USD  Life_Expectancy\n",
       "Year               201.098848  2.571883e+04        41.915454\n",
       "Spending_USD     25718.827373  4.817761e+06      4166.800912\n",
       "Life_Expectancy     41.915454  4.166801e+03        10.733902"
      ]
     },
     "execution_count": 6,
     "metadata": {},
     "output_type": "execute_result"
    }
   ],
   "source": [
    "df.cov()"
   ]
  },
  {
   "cell_type": "code",
   "execution_count": 8,
   "id": "42b14a80-df8b-42f2-960d-eda47c1ecf70",
   "metadata": {},
   "outputs": [
    {
     "name": "stderr",
     "output_type": "stream",
     "text": [
      "/tmp/ipykernel_77/304108163.py:2: FutureWarning: The default value of numeric_only in DataFrame.corr is deprecated. In a future version, it will default to False. Select only valid columns or specify the value of numeric_only to silence this warning.\n",
      "  df.corr(method='spearman')\n"
     ]
    },
    {
     "data": {
      "text/html": [
       "<div>\n",
       "<style scoped>\n",
       "    .dataframe tbody tr th:only-of-type {\n",
       "        vertical-align: middle;\n",
       "    }\n",
       "\n",
       "    .dataframe tbody tr th {\n",
       "        vertical-align: top;\n",
       "    }\n",
       "\n",
       "    .dataframe thead th {\n",
       "        text-align: right;\n",
       "    }\n",
       "</style>\n",
       "<table border=\"1\" class=\"dataframe\">\n",
       "  <thead>\n",
       "    <tr style=\"text-align: right;\">\n",
       "      <th></th>\n",
       "      <th>Year</th>\n",
       "      <th>Spending_USD</th>\n",
       "      <th>Life_Expectancy</th>\n",
       "    </tr>\n",
       "  </thead>\n",
       "  <tbody>\n",
       "    <tr>\n",
       "      <th>Year</th>\n",
       "      <td>1.000000</td>\n",
       "      <td>0.931598</td>\n",
       "      <td>0.896117</td>\n",
       "    </tr>\n",
       "    <tr>\n",
       "      <th>Spending_USD</th>\n",
       "      <td>0.931598</td>\n",
       "      <td>1.000000</td>\n",
       "      <td>0.747407</td>\n",
       "    </tr>\n",
       "    <tr>\n",
       "      <th>Life_Expectancy</th>\n",
       "      <td>0.896117</td>\n",
       "      <td>0.747407</td>\n",
       "      <td>1.000000</td>\n",
       "    </tr>\n",
       "  </tbody>\n",
       "</table>\n",
       "</div>"
      ],
      "text/plain": [
       "                     Year  Spending_USD  Life_Expectancy\n",
       "Year             1.000000      0.931598         0.896117\n",
       "Spending_USD     0.931598      1.000000         0.747407\n",
       "Life_Expectancy  0.896117      0.747407         1.000000"
      ]
     },
     "execution_count": 8,
     "metadata": {},
     "output_type": "execute_result"
    }
   ],
   "source": [
    "## Spearman Rank Correlation\n",
    "df.corr(method='spearman')"
   ]
  },
  {
   "cell_type": "code",
   "execution_count": 9,
   "id": "fa1eb25a-6628-45d1-9da7-575e05cb4b7b",
   "metadata": {},
   "outputs": [
    {
     "name": "stderr",
     "output_type": "stream",
     "text": [
      "/tmp/ipykernel_77/546256669.py:2: FutureWarning: The default value of numeric_only in DataFrame.corr is deprecated. In a future version, it will default to False. Select only valid columns or specify the value of numeric_only to silence this warning.\n",
      "  df.corr(method='pearson')\n"
     ]
    },
    {
     "data": {
      "text/html": [
       "<div>\n",
       "<style scoped>\n",
       "    .dataframe tbody tr th:only-of-type {\n",
       "        vertical-align: middle;\n",
       "    }\n",
       "\n",
       "    .dataframe tbody tr th {\n",
       "        vertical-align: top;\n",
       "    }\n",
       "\n",
       "    .dataframe thead th {\n",
       "        text-align: right;\n",
       "    }\n",
       "</style>\n",
       "<table border=\"1\" class=\"dataframe\">\n",
       "  <thead>\n",
       "    <tr style=\"text-align: right;\">\n",
       "      <th></th>\n",
       "      <th>Year</th>\n",
       "      <th>Spending_USD</th>\n",
       "      <th>Life_Expectancy</th>\n",
       "    </tr>\n",
       "  </thead>\n",
       "  <tbody>\n",
       "    <tr>\n",
       "      <th>Year</th>\n",
       "      <td>1.000000</td>\n",
       "      <td>0.826273</td>\n",
       "      <td>0.902175</td>\n",
       "    </tr>\n",
       "    <tr>\n",
       "      <th>Spending_USD</th>\n",
       "      <td>0.826273</td>\n",
       "      <td>1.000000</td>\n",
       "      <td>0.579430</td>\n",
       "    </tr>\n",
       "    <tr>\n",
       "      <th>Life_Expectancy</th>\n",
       "      <td>0.902175</td>\n",
       "      <td>0.579430</td>\n",
       "      <td>1.000000</td>\n",
       "    </tr>\n",
       "  </tbody>\n",
       "</table>\n",
       "</div>"
      ],
      "text/plain": [
       "                     Year  Spending_USD  Life_Expectancy\n",
       "Year             1.000000      0.826273         0.902175\n",
       "Spending_USD     0.826273      1.000000         0.579430\n",
       "Life_Expectancy  0.902175      0.579430         1.000000"
      ]
     },
     "execution_count": 9,
     "metadata": {},
     "output_type": "execute_result"
    }
   ],
   "source": [
    "## Pearson Correlation\n",
    "df.corr(method='pearson')"
   ]
  },
  {
   "cell_type": "markdown",
   "id": "0c5c1264-f12e-4bba-8f19-a1d4751f5888",
   "metadata": {},
   "source": [
    "## ********** End of Feature Engineering ************* "
   ]
  },
  {
   "cell_type": "code",
   "execution_count": null,
   "id": "0fc111dd-4b7b-4174-862a-e66b13158b00",
   "metadata": {},
   "outputs": [],
   "source": []
  }
 ],
 "metadata": {
  "kernelspec": {
   "display_name": "Python 3 (ipykernel)",
   "language": "python",
   "name": "python3"
  },
  "language_info": {
   "codemirror_mode": {
    "name": "ipython",
    "version": 3
   },
   "file_extension": ".py",
   "mimetype": "text/x-python",
   "name": "python",
   "nbconvert_exporter": "python",
   "pygments_lexer": "ipython3",
   "version": "3.10.8"
  }
 },
 "nbformat": 4,
 "nbformat_minor": 5
}
